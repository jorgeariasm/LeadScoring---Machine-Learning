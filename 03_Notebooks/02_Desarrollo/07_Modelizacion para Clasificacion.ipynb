{
 "cells": [
  {
   "cell_type": "markdown",
   "id": "d31dea65",
   "metadata": {},
   "source": [
    "# MODELIZACIÓN PARA CLASIFICACIÓN"
   ]
  },
  {
   "cell_type": "markdown",
   "id": "8da437fb",
   "metadata": {},
   "source": [
    "**IMPORTANTE**: Esta plantilla está diseñada para una visión de máximos utilizando el framework de The Ultimate Algo Machine. Si tienes problemas de memoria o rendimiento recuerda reducir el problema mediante:\n",
    "\n",
    "* Muestreo\n",
    "* Balanceo undersampling\n",
    "* Reducir el número de algoritmos a testar\n",
    "* Reducir el número de parámetros a testar\n",
    "* Usar random search y especificar un n_iter adecuado"
   ]
  },
  {
   "cell_type": "markdown",
   "id": "swiss-fault",
   "metadata": {},
   "source": [
    "## IMPORTAR PAQUETES"
   ]
  },
  {
   "cell_type": "code",
   "execution_count": 1,
   "id": "adjacent-toddler",
   "metadata": {},
   "outputs": [
    {
     "name": "stderr",
     "output_type": "stream",
     "text": [
      "C:\\Users\\Jorge\\miniconda3\\envs\\leadscoring\\lib\\site-packages\\xgboost\\compat.py:36: FutureWarning: pandas.Int64Index is deprecated and will be removed from pandas in a future version. Use pandas.Index with the appropriate dtype instead.\n",
      "  from pandas import MultiIndex, Int64Index\n"
     ]
    }
   ],
   "source": [
    "import numpy as np\n",
    "import pandas as pd\n",
    "import matplotlib.pyplot as plt\n",
    "%matplotlib inline\n",
    "\n",
    "from sklearn.model_selection import train_test_split\n",
    "\n",
    "from sklearn.linear_model import LogisticRegression\n",
    "from sklearn.ensemble import RandomForestClassifier\n",
    "from xgboost import XGBClassifier\n",
    "from sklearn.ensemble import HistGradientBoostingClassifier\n",
    "from sklearn.pipeline import Pipeline\n",
    "\n",
    "from sklearn.model_selection import GridSearchCV\n",
    "from sklearn.model_selection import RandomizedSearchCV\n",
    "\n",
    "from sklearn.metrics import roc_auc_score\n",
    "from sklearn.metrics import confusion_matrix\n",
    "from sklearn.metrics import plot_confusion_matrix\n",
    "from sklearn.metrics import classification_report\n",
    "\n",
    "from sklearn.metrics import plot_precision_recall_curve\n",
    "import scikitplot as skplt\n",
    "from yellowbrick.classifier import discrimination_threshold\n",
    "\n",
    "#Autocompletar rápido\n",
    "%config IPCompleter.greedy=True\n",
    "\n",
    "#Desactivar la notación científica\n",
    "pd.options.display.float_format = '{:.2f}'.format\n",
    "\n",
    "#Desactivar los warnings\n",
    "import warnings\n",
    "warnings.filterwarnings(\"ignore\")"
   ]
  },
  {
   "cell_type": "markdown",
   "id": "graduate-compensation",
   "metadata": {},
   "source": [
    "## IMPORTAR LOS DATOS"
   ]
  },
  {
   "cell_type": "markdown",
   "id": "3a5b94ef",
   "metadata": {},
   "source": [
    "Sustituir la ruta del proyecto."
   ]
  },
  {
   "cell_type": "code",
   "execution_count": 2,
   "id": "f9d2de58",
   "metadata": {},
   "outputs": [],
   "source": [
    "ruta_proyecto = 'C:/Users/Jorge/Documents/PythonDataScience/35_Machine_Learning_Framework/PROYECTOS_ML/01_LEADSCORING'"
   ]
  },
  {
   "cell_type": "markdown",
   "id": "c3363765",
   "metadata": {},
   "source": [
    "Nombres de los ficheros de datos."
   ]
  },
  {
   "cell_type": "code",
   "execution_count": 3,
   "id": "a9e2e04a",
   "metadata": {},
   "outputs": [],
   "source": [
    "nombre_x = 'x_preseleccionado.pickle'\n",
    "nombre_y = 'y_preseleccionado.pickle'"
   ]
  },
  {
   "cell_type": "markdown",
   "id": "b9825018",
   "metadata": {},
   "source": [
    "Cargar los datos."
   ]
  },
  {
   "cell_type": "code",
   "execution_count": 4,
   "id": "cab6ebcd",
   "metadata": {},
   "outputs": [],
   "source": [
    "x = pd.read_pickle(ruta_proyecto + '/02_Datos/03_Trabajo/' + nombre_x)\n",
    "y = pd.read_pickle(ruta_proyecto + '/02_Datos/03_Trabajo/' + nombre_y)"
   ]
  },
  {
   "cell_type": "markdown",
   "id": "9790d322",
   "metadata": {},
   "source": [
    "## MODELIZAR"
   ]
  },
  {
   "cell_type": "markdown",
   "id": "930f685f",
   "metadata": {},
   "source": [
    "### Reservar el dataset de validacion"
   ]
  },
  {
   "cell_type": "code",
   "execution_count": 5,
   "id": "84b6fd41",
   "metadata": {},
   "outputs": [],
   "source": [
    "train_x,val_x,train_y,val_y = train_test_split(x,y,test_size=0.3)"
   ]
  },
  {
   "cell_type": "markdown",
   "id": "53bd4ad6",
   "metadata": {},
   "source": [
    "### Crear el pipe y el diccionario de algorimos, parámetros y valores a testar"
   ]
  },
  {
   "cell_type": "markdown",
   "id": "19b25807",
   "metadata": {},
   "source": [
    "Modificar para dejar solo los algoritmos que se quieran testar.\n",
    "\n",
    "Modificar los parámetros."
   ]
  },
  {
   "cell_type": "code",
   "execution_count": 6,
   "id": "3efa5c98",
   "metadata": {},
   "outputs": [],
   "source": [
    "pipe = Pipeline([('algoritmo',RandomForestClassifier())])\n",
    "\n",
    "grid = [{'algoritmo': [LogisticRegression()],\n",
    "         'algoritmo__n_jobs': [-1],\n",
    "         'algoritmo__solver': ['saga'],\n",
    "         'algoritmo__penalty': ['elasticnet', 'l1', 'l2', 'none'],\n",
    "         'algoritmo__C': [0,0.25,0.5,0.75,1]}      \n",
    "       \n",
    "       ]"
   ]
  },
  {
   "cell_type": "markdown",
   "id": "1f836ca9",
   "metadata": {},
   "source": [
    "### Optimizar los hiper parámetros"
   ]
  },
  {
   "cell_type": "markdown",
   "id": "32983bac",
   "metadata": {},
   "source": [
    "Elegir si se quiere usar grid search o random search.\n",
    "\n",
    "Comentar la opción que no se vaya a usar."
   ]
  },
  {
   "cell_type": "markdown",
   "id": "3d73daa9",
   "metadata": {},
   "source": [
    "####  Con grid search"
   ]
  },
  {
   "cell_type": "code",
   "execution_count": 7,
   "id": "4be08386",
   "metadata": {},
   "outputs": [
    {
     "data": {
      "text/html": [
       "<div>\n",
       "<style scoped>\n",
       "    .dataframe tbody tr th:only-of-type {\n",
       "        vertical-align: middle;\n",
       "    }\n",
       "\n",
       "    .dataframe tbody tr th {\n",
       "        vertical-align: top;\n",
       "    }\n",
       "\n",
       "    .dataframe thead th {\n",
       "        text-align: right;\n",
       "    }\n",
       "</style>\n",
       "<table border=\"1\" class=\"dataframe\">\n",
       "  <thead>\n",
       "    <tr style=\"text-align: right;\">\n",
       "      <th></th>\n",
       "      <th>mean_fit_time</th>\n",
       "      <th>std_fit_time</th>\n",
       "      <th>mean_score_time</th>\n",
       "      <th>std_score_time</th>\n",
       "      <th>param_algoritmo</th>\n",
       "      <th>param_algoritmo__C</th>\n",
       "      <th>param_algoritmo__n_jobs</th>\n",
       "      <th>param_algoritmo__penalty</th>\n",
       "      <th>param_algoritmo__solver</th>\n",
       "      <th>params</th>\n",
       "      <th>split0_test_score</th>\n",
       "      <th>split1_test_score</th>\n",
       "      <th>split2_test_score</th>\n",
       "      <th>mean_test_score</th>\n",
       "      <th>std_test_score</th>\n",
       "      <th>rank_test_score</th>\n",
       "    </tr>\n",
       "  </thead>\n",
       "  <tbody>\n",
       "    <tr>\n",
       "      <th>15</th>\n",
       "      <td>0.08</td>\n",
       "      <td>0.00</td>\n",
       "      <td>0.01</td>\n",
       "      <td>0.00</td>\n",
       "      <td>LogisticRegression(C=0.75, n_jobs=-1, penalty=...</td>\n",
       "      <td>0.75</td>\n",
       "      <td>-1</td>\n",
       "      <td>none</td>\n",
       "      <td>saga</td>\n",
       "      <td>{'algoritmo': LogisticRegression(C=0.75, n_job...</td>\n",
       "      <td>0.86</td>\n",
       "      <td>0.85</td>\n",
       "      <td>0.86</td>\n",
       "      <td>0.86</td>\n",
       "      <td>0.01</td>\n",
       "      <td>1</td>\n",
       "    </tr>\n",
       "    <tr>\n",
       "      <th>11</th>\n",
       "      <td>0.10</td>\n",
       "      <td>0.02</td>\n",
       "      <td>0.01</td>\n",
       "      <td>0.00</td>\n",
       "      <td>LogisticRegression(C=0.75, n_jobs=-1, penalty=...</td>\n",
       "      <td>0.50</td>\n",
       "      <td>-1</td>\n",
       "      <td>none</td>\n",
       "      <td>saga</td>\n",
       "      <td>{'algoritmo': LogisticRegression(C=0.75, n_job...</td>\n",
       "      <td>0.86</td>\n",
       "      <td>0.85</td>\n",
       "      <td>0.86</td>\n",
       "      <td>0.86</td>\n",
       "      <td>0.01</td>\n",
       "      <td>2</td>\n",
       "    </tr>\n",
       "    <tr>\n",
       "      <th>7</th>\n",
       "      <td>0.09</td>\n",
       "      <td>0.01</td>\n",
       "      <td>0.01</td>\n",
       "      <td>0.00</td>\n",
       "      <td>LogisticRegression(C=0.75, n_jobs=-1, penalty=...</td>\n",
       "      <td>0.25</td>\n",
       "      <td>-1</td>\n",
       "      <td>none</td>\n",
       "      <td>saga</td>\n",
       "      <td>{'algoritmo': LogisticRegression(C=0.75, n_job...</td>\n",
       "      <td>0.86</td>\n",
       "      <td>0.85</td>\n",
       "      <td>0.86</td>\n",
       "      <td>0.86</td>\n",
       "      <td>0.01</td>\n",
       "      <td>3</td>\n",
       "    </tr>\n",
       "    <tr>\n",
       "      <th>3</th>\n",
       "      <td>0.10</td>\n",
       "      <td>0.01</td>\n",
       "      <td>0.01</td>\n",
       "      <td>0.00</td>\n",
       "      <td>LogisticRegression(C=0.75, n_jobs=-1, penalty=...</td>\n",
       "      <td>0</td>\n",
       "      <td>-1</td>\n",
       "      <td>none</td>\n",
       "      <td>saga</td>\n",
       "      <td>{'algoritmo': LogisticRegression(C=0.75, n_job...</td>\n",
       "      <td>0.86</td>\n",
       "      <td>0.85</td>\n",
       "      <td>0.86</td>\n",
       "      <td>0.86</td>\n",
       "      <td>0.01</td>\n",
       "      <td>4</td>\n",
       "    </tr>\n",
       "    <tr>\n",
       "      <th>19</th>\n",
       "      <td>0.06</td>\n",
       "      <td>0.01</td>\n",
       "      <td>0.01</td>\n",
       "      <td>0.00</td>\n",
       "      <td>LogisticRegression(C=0.75, n_jobs=-1, penalty=...</td>\n",
       "      <td>1</td>\n",
       "      <td>-1</td>\n",
       "      <td>none</td>\n",
       "      <td>saga</td>\n",
       "      <td>{'algoritmo': LogisticRegression(C=0.75, n_job...</td>\n",
       "      <td>0.86</td>\n",
       "      <td>0.85</td>\n",
       "      <td>0.86</td>\n",
       "      <td>0.86</td>\n",
       "      <td>0.01</td>\n",
       "      <td>5</td>\n",
       "    </tr>\n",
       "    <tr>\n",
       "      <th>17</th>\n",
       "      <td>0.09</td>\n",
       "      <td>0.01</td>\n",
       "      <td>0.01</td>\n",
       "      <td>0.00</td>\n",
       "      <td>LogisticRegression(C=0.75, n_jobs=-1, penalty=...</td>\n",
       "      <td>1</td>\n",
       "      <td>-1</td>\n",
       "      <td>l1</td>\n",
       "      <td>saga</td>\n",
       "      <td>{'algoritmo': LogisticRegression(C=0.75, n_job...</td>\n",
       "      <td>0.86</td>\n",
       "      <td>0.85</td>\n",
       "      <td>0.86</td>\n",
       "      <td>0.86</td>\n",
       "      <td>0.01</td>\n",
       "      <td>6</td>\n",
       "    </tr>\n",
       "    <tr>\n",
       "      <th>13</th>\n",
       "      <td>0.11</td>\n",
       "      <td>0.02</td>\n",
       "      <td>0.01</td>\n",
       "      <td>0.00</td>\n",
       "      <td>LogisticRegression(C=0.75, n_jobs=-1, penalty=...</td>\n",
       "      <td>0.75</td>\n",
       "      <td>-1</td>\n",
       "      <td>l1</td>\n",
       "      <td>saga</td>\n",
       "      <td>{'algoritmo': LogisticRegression(C=0.75, n_job...</td>\n",
       "      <td>0.86</td>\n",
       "      <td>0.85</td>\n",
       "      <td>0.86</td>\n",
       "      <td>0.86</td>\n",
       "      <td>0.01</td>\n",
       "      <td>7</td>\n",
       "    </tr>\n",
       "    <tr>\n",
       "      <th>9</th>\n",
       "      <td>0.09</td>\n",
       "      <td>0.01</td>\n",
       "      <td>0.01</td>\n",
       "      <td>0.00</td>\n",
       "      <td>LogisticRegression(C=0.75, n_jobs=-1, penalty=...</td>\n",
       "      <td>0.50</td>\n",
       "      <td>-1</td>\n",
       "      <td>l1</td>\n",
       "      <td>saga</td>\n",
       "      <td>{'algoritmo': LogisticRegression(C=0.75, n_job...</td>\n",
       "      <td>0.86</td>\n",
       "      <td>0.85</td>\n",
       "      <td>0.86</td>\n",
       "      <td>0.86</td>\n",
       "      <td>0.01</td>\n",
       "      <td>8</td>\n",
       "    </tr>\n",
       "    <tr>\n",
       "      <th>18</th>\n",
       "      <td>0.07</td>\n",
       "      <td>0.00</td>\n",
       "      <td>0.01</td>\n",
       "      <td>0.00</td>\n",
       "      <td>LogisticRegression(C=0.75, n_jobs=-1, penalty=...</td>\n",
       "      <td>1</td>\n",
       "      <td>-1</td>\n",
       "      <td>l2</td>\n",
       "      <td>saga</td>\n",
       "      <td>{'algoritmo': LogisticRegression(C=0.75, n_job...</td>\n",
       "      <td>0.86</td>\n",
       "      <td>0.84</td>\n",
       "      <td>0.86</td>\n",
       "      <td>0.85</td>\n",
       "      <td>0.01</td>\n",
       "      <td>9</td>\n",
       "    </tr>\n",
       "    <tr>\n",
       "      <th>14</th>\n",
       "      <td>0.06</td>\n",
       "      <td>0.01</td>\n",
       "      <td>0.01</td>\n",
       "      <td>0.00</td>\n",
       "      <td>LogisticRegression(C=0.75, n_jobs=-1, penalty=...</td>\n",
       "      <td>0.75</td>\n",
       "      <td>-1</td>\n",
       "      <td>l2</td>\n",
       "      <td>saga</td>\n",
       "      <td>{'algoritmo': LogisticRegression(C=0.75, n_job...</td>\n",
       "      <td>0.86</td>\n",
       "      <td>0.84</td>\n",
       "      <td>0.86</td>\n",
       "      <td>0.85</td>\n",
       "      <td>0.01</td>\n",
       "      <td>10</td>\n",
       "    </tr>\n",
       "    <tr>\n",
       "      <th>5</th>\n",
       "      <td>0.08</td>\n",
       "      <td>0.01</td>\n",
       "      <td>0.01</td>\n",
       "      <td>0.00</td>\n",
       "      <td>LogisticRegression(C=0.75, n_jobs=-1, penalty=...</td>\n",
       "      <td>0.25</td>\n",
       "      <td>-1</td>\n",
       "      <td>l1</td>\n",
       "      <td>saga</td>\n",
       "      <td>{'algoritmo': LogisticRegression(C=0.75, n_job...</td>\n",
       "      <td>0.86</td>\n",
       "      <td>0.84</td>\n",
       "      <td>0.86</td>\n",
       "      <td>0.85</td>\n",
       "      <td>0.01</td>\n",
       "      <td>11</td>\n",
       "    </tr>\n",
       "    <tr>\n",
       "      <th>10</th>\n",
       "      <td>0.07</td>\n",
       "      <td>0.02</td>\n",
       "      <td>0.01</td>\n",
       "      <td>0.00</td>\n",
       "      <td>LogisticRegression(C=0.75, n_jobs=-1, penalty=...</td>\n",
       "      <td>0.50</td>\n",
       "      <td>-1</td>\n",
       "      <td>l2</td>\n",
       "      <td>saga</td>\n",
       "      <td>{'algoritmo': LogisticRegression(C=0.75, n_job...</td>\n",
       "      <td>0.86</td>\n",
       "      <td>0.84</td>\n",
       "      <td>0.86</td>\n",
       "      <td>0.85</td>\n",
       "      <td>0.01</td>\n",
       "      <td>12</td>\n",
       "    </tr>\n",
       "    <tr>\n",
       "      <th>6</th>\n",
       "      <td>0.06</td>\n",
       "      <td>0.01</td>\n",
       "      <td>0.01</td>\n",
       "      <td>0.00</td>\n",
       "      <td>LogisticRegression(C=0.75, n_jobs=-1, penalty=...</td>\n",
       "      <td>0.25</td>\n",
       "      <td>-1</td>\n",
       "      <td>l2</td>\n",
       "      <td>saga</td>\n",
       "      <td>{'algoritmo': LogisticRegression(C=0.75, n_job...</td>\n",
       "      <td>0.86</td>\n",
       "      <td>0.84</td>\n",
       "      <td>0.85</td>\n",
       "      <td>0.85</td>\n",
       "      <td>0.01</td>\n",
       "      <td>13</td>\n",
       "    </tr>\n",
       "    <tr>\n",
       "      <th>8</th>\n",
       "      <td>0.00</td>\n",
       "      <td>0.00</td>\n",
       "      <td>0.00</td>\n",
       "      <td>0.00</td>\n",
       "      <td>LogisticRegression(C=0.75, n_jobs=-1, penalty=...</td>\n",
       "      <td>0.50</td>\n",
       "      <td>-1</td>\n",
       "      <td>elasticnet</td>\n",
       "      <td>saga</td>\n",
       "      <td>{'algoritmo': LogisticRegression(C=0.75, n_job...</td>\n",
       "      <td>NaN</td>\n",
       "      <td>NaN</td>\n",
       "      <td>NaN</td>\n",
       "      <td>NaN</td>\n",
       "      <td>NaN</td>\n",
       "      <td>14</td>\n",
       "    </tr>\n",
       "    <tr>\n",
       "      <th>12</th>\n",
       "      <td>0.00</td>\n",
       "      <td>0.00</td>\n",
       "      <td>0.00</td>\n",
       "      <td>0.00</td>\n",
       "      <td>LogisticRegression(C=0.75, n_jobs=-1, penalty=...</td>\n",
       "      <td>0.75</td>\n",
       "      <td>-1</td>\n",
       "      <td>elasticnet</td>\n",
       "      <td>saga</td>\n",
       "      <td>{'algoritmo': LogisticRegression(C=0.75, n_job...</td>\n",
       "      <td>NaN</td>\n",
       "      <td>NaN</td>\n",
       "      <td>NaN</td>\n",
       "      <td>NaN</td>\n",
       "      <td>NaN</td>\n",
       "      <td>15</td>\n",
       "    </tr>\n",
       "    <tr>\n",
       "      <th>4</th>\n",
       "      <td>0.01</td>\n",
       "      <td>0.00</td>\n",
       "      <td>0.00</td>\n",
       "      <td>0.00</td>\n",
       "      <td>LogisticRegression(C=0.75, n_jobs=-1, penalty=...</td>\n",
       "      <td>0.25</td>\n",
       "      <td>-1</td>\n",
       "      <td>elasticnet</td>\n",
       "      <td>saga</td>\n",
       "      <td>{'algoritmo': LogisticRegression(C=0.75, n_job...</td>\n",
       "      <td>NaN</td>\n",
       "      <td>NaN</td>\n",
       "      <td>NaN</td>\n",
       "      <td>NaN</td>\n",
       "      <td>NaN</td>\n",
       "      <td>16</td>\n",
       "    </tr>\n",
       "    <tr>\n",
       "      <th>2</th>\n",
       "      <td>0.04</td>\n",
       "      <td>0.01</td>\n",
       "      <td>0.00</td>\n",
       "      <td>0.00</td>\n",
       "      <td>LogisticRegression(C=0.75, n_jobs=-1, penalty=...</td>\n",
       "      <td>0</td>\n",
       "      <td>-1</td>\n",
       "      <td>l2</td>\n",
       "      <td>saga</td>\n",
       "      <td>{'algoritmo': LogisticRegression(C=0.75, n_job...</td>\n",
       "      <td>NaN</td>\n",
       "      <td>NaN</td>\n",
       "      <td>NaN</td>\n",
       "      <td>NaN</td>\n",
       "      <td>NaN</td>\n",
       "      <td>17</td>\n",
       "    </tr>\n",
       "    <tr>\n",
       "      <th>16</th>\n",
       "      <td>0.00</td>\n",
       "      <td>0.00</td>\n",
       "      <td>0.00</td>\n",
       "      <td>0.00</td>\n",
       "      <td>LogisticRegression(C=0.75, n_jobs=-1, penalty=...</td>\n",
       "      <td>1</td>\n",
       "      <td>-1</td>\n",
       "      <td>elasticnet</td>\n",
       "      <td>saga</td>\n",
       "      <td>{'algoritmo': LogisticRegression(C=0.75, n_job...</td>\n",
       "      <td>NaN</td>\n",
       "      <td>NaN</td>\n",
       "      <td>NaN</td>\n",
       "      <td>NaN</td>\n",
       "      <td>NaN</td>\n",
       "      <td>18</td>\n",
       "    </tr>\n",
       "    <tr>\n",
       "      <th>1</th>\n",
       "      <td>0.05</td>\n",
       "      <td>0.01</td>\n",
       "      <td>0.00</td>\n",
       "      <td>0.00</td>\n",
       "      <td>LogisticRegression(C=0.75, n_jobs=-1, penalty=...</td>\n",
       "      <td>0</td>\n",
       "      <td>-1</td>\n",
       "      <td>l1</td>\n",
       "      <td>saga</td>\n",
       "      <td>{'algoritmo': LogisticRegression(C=0.75, n_job...</td>\n",
       "      <td>NaN</td>\n",
       "      <td>NaN</td>\n",
       "      <td>NaN</td>\n",
       "      <td>NaN</td>\n",
       "      <td>NaN</td>\n",
       "      <td>19</td>\n",
       "    </tr>\n",
       "    <tr>\n",
       "      <th>0</th>\n",
       "      <td>0.01</td>\n",
       "      <td>0.00</td>\n",
       "      <td>0.00</td>\n",
       "      <td>0.00</td>\n",
       "      <td>LogisticRegression(C=0.75, n_jobs=-1, penalty=...</td>\n",
       "      <td>0</td>\n",
       "      <td>-1</td>\n",
       "      <td>elasticnet</td>\n",
       "      <td>saga</td>\n",
       "      <td>{'algoritmo': LogisticRegression(C=0.75, n_job...</td>\n",
       "      <td>NaN</td>\n",
       "      <td>NaN</td>\n",
       "      <td>NaN</td>\n",
       "      <td>NaN</td>\n",
       "      <td>NaN</td>\n",
       "      <td>20</td>\n",
       "    </tr>\n",
       "  </tbody>\n",
       "</table>\n",
       "</div>"
      ],
      "text/plain": [
       "    mean_fit_time  std_fit_time  mean_score_time  std_score_time  \\\n",
       "15           0.08          0.00             0.01            0.00   \n",
       "11           0.10          0.02             0.01            0.00   \n",
       "7            0.09          0.01             0.01            0.00   \n",
       "3            0.10          0.01             0.01            0.00   \n",
       "19           0.06          0.01             0.01            0.00   \n",
       "17           0.09          0.01             0.01            0.00   \n",
       "13           0.11          0.02             0.01            0.00   \n",
       "9            0.09          0.01             0.01            0.00   \n",
       "18           0.07          0.00             0.01            0.00   \n",
       "14           0.06          0.01             0.01            0.00   \n",
       "5            0.08          0.01             0.01            0.00   \n",
       "10           0.07          0.02             0.01            0.00   \n",
       "6            0.06          0.01             0.01            0.00   \n",
       "8            0.00          0.00             0.00            0.00   \n",
       "12           0.00          0.00             0.00            0.00   \n",
       "4            0.01          0.00             0.00            0.00   \n",
       "2            0.04          0.01             0.00            0.00   \n",
       "16           0.00          0.00             0.00            0.00   \n",
       "1            0.05          0.01             0.00            0.00   \n",
       "0            0.01          0.00             0.00            0.00   \n",
       "\n",
       "                                      param_algoritmo param_algoritmo__C  \\\n",
       "15  LogisticRegression(C=0.75, n_jobs=-1, penalty=...               0.75   \n",
       "11  LogisticRegression(C=0.75, n_jobs=-1, penalty=...               0.50   \n",
       "7   LogisticRegression(C=0.75, n_jobs=-1, penalty=...               0.25   \n",
       "3   LogisticRegression(C=0.75, n_jobs=-1, penalty=...                  0   \n",
       "19  LogisticRegression(C=0.75, n_jobs=-1, penalty=...                  1   \n",
       "17  LogisticRegression(C=0.75, n_jobs=-1, penalty=...                  1   \n",
       "13  LogisticRegression(C=0.75, n_jobs=-1, penalty=...               0.75   \n",
       "9   LogisticRegression(C=0.75, n_jobs=-1, penalty=...               0.50   \n",
       "18  LogisticRegression(C=0.75, n_jobs=-1, penalty=...                  1   \n",
       "14  LogisticRegression(C=0.75, n_jobs=-1, penalty=...               0.75   \n",
       "5   LogisticRegression(C=0.75, n_jobs=-1, penalty=...               0.25   \n",
       "10  LogisticRegression(C=0.75, n_jobs=-1, penalty=...               0.50   \n",
       "6   LogisticRegression(C=0.75, n_jobs=-1, penalty=...               0.25   \n",
       "8   LogisticRegression(C=0.75, n_jobs=-1, penalty=...               0.50   \n",
       "12  LogisticRegression(C=0.75, n_jobs=-1, penalty=...               0.75   \n",
       "4   LogisticRegression(C=0.75, n_jobs=-1, penalty=...               0.25   \n",
       "2   LogisticRegression(C=0.75, n_jobs=-1, penalty=...                  0   \n",
       "16  LogisticRegression(C=0.75, n_jobs=-1, penalty=...                  1   \n",
       "1   LogisticRegression(C=0.75, n_jobs=-1, penalty=...                  0   \n",
       "0   LogisticRegression(C=0.75, n_jobs=-1, penalty=...                  0   \n",
       "\n",
       "   param_algoritmo__n_jobs param_algoritmo__penalty param_algoritmo__solver  \\\n",
       "15                      -1                     none                    saga   \n",
       "11                      -1                     none                    saga   \n",
       "7                       -1                     none                    saga   \n",
       "3                       -1                     none                    saga   \n",
       "19                      -1                     none                    saga   \n",
       "17                      -1                       l1                    saga   \n",
       "13                      -1                       l1                    saga   \n",
       "9                       -1                       l1                    saga   \n",
       "18                      -1                       l2                    saga   \n",
       "14                      -1                       l2                    saga   \n",
       "5                       -1                       l1                    saga   \n",
       "10                      -1                       l2                    saga   \n",
       "6                       -1                       l2                    saga   \n",
       "8                       -1               elasticnet                    saga   \n",
       "12                      -1               elasticnet                    saga   \n",
       "4                       -1               elasticnet                    saga   \n",
       "2                       -1                       l2                    saga   \n",
       "16                      -1               elasticnet                    saga   \n",
       "1                       -1                       l1                    saga   \n",
       "0                       -1               elasticnet                    saga   \n",
       "\n",
       "                                               params  split0_test_score  \\\n",
       "15  {'algoritmo': LogisticRegression(C=0.75, n_job...               0.86   \n",
       "11  {'algoritmo': LogisticRegression(C=0.75, n_job...               0.86   \n",
       "7   {'algoritmo': LogisticRegression(C=0.75, n_job...               0.86   \n",
       "3   {'algoritmo': LogisticRegression(C=0.75, n_job...               0.86   \n",
       "19  {'algoritmo': LogisticRegression(C=0.75, n_job...               0.86   \n",
       "17  {'algoritmo': LogisticRegression(C=0.75, n_job...               0.86   \n",
       "13  {'algoritmo': LogisticRegression(C=0.75, n_job...               0.86   \n",
       "9   {'algoritmo': LogisticRegression(C=0.75, n_job...               0.86   \n",
       "18  {'algoritmo': LogisticRegression(C=0.75, n_job...               0.86   \n",
       "14  {'algoritmo': LogisticRegression(C=0.75, n_job...               0.86   \n",
       "5   {'algoritmo': LogisticRegression(C=0.75, n_job...               0.86   \n",
       "10  {'algoritmo': LogisticRegression(C=0.75, n_job...               0.86   \n",
       "6   {'algoritmo': LogisticRegression(C=0.75, n_job...               0.86   \n",
       "8   {'algoritmo': LogisticRegression(C=0.75, n_job...                NaN   \n",
       "12  {'algoritmo': LogisticRegression(C=0.75, n_job...                NaN   \n",
       "4   {'algoritmo': LogisticRegression(C=0.75, n_job...                NaN   \n",
       "2   {'algoritmo': LogisticRegression(C=0.75, n_job...                NaN   \n",
       "16  {'algoritmo': LogisticRegression(C=0.75, n_job...                NaN   \n",
       "1   {'algoritmo': LogisticRegression(C=0.75, n_job...                NaN   \n",
       "0   {'algoritmo': LogisticRegression(C=0.75, n_job...                NaN   \n",
       "\n",
       "    split1_test_score  split2_test_score  mean_test_score  std_test_score  \\\n",
       "15               0.85               0.86             0.86            0.01   \n",
       "11               0.85               0.86             0.86            0.01   \n",
       "7                0.85               0.86             0.86            0.01   \n",
       "3                0.85               0.86             0.86            0.01   \n",
       "19               0.85               0.86             0.86            0.01   \n",
       "17               0.85               0.86             0.86            0.01   \n",
       "13               0.85               0.86             0.86            0.01   \n",
       "9                0.85               0.86             0.86            0.01   \n",
       "18               0.84               0.86             0.85            0.01   \n",
       "14               0.84               0.86             0.85            0.01   \n",
       "5                0.84               0.86             0.85            0.01   \n",
       "10               0.84               0.86             0.85            0.01   \n",
       "6                0.84               0.85             0.85            0.01   \n",
       "8                 NaN                NaN              NaN             NaN   \n",
       "12                NaN                NaN              NaN             NaN   \n",
       "4                 NaN                NaN              NaN             NaN   \n",
       "2                 NaN                NaN              NaN             NaN   \n",
       "16                NaN                NaN              NaN             NaN   \n",
       "1                 NaN                NaN              NaN             NaN   \n",
       "0                 NaN                NaN              NaN             NaN   \n",
       "\n",
       "    rank_test_score  \n",
       "15                1  \n",
       "11                2  \n",
       "7                 3  \n",
       "3                 4  \n",
       "19                5  \n",
       "17                6  \n",
       "13                7  \n",
       "9                 8  \n",
       "18                9  \n",
       "14               10  \n",
       "5                11  \n",
       "10               12  \n",
       "6                13  \n",
       "8                14  \n",
       "12               15  \n",
       "4                16  \n",
       "2                17  \n",
       "16               18  \n",
       "1                19  \n",
       "0                20  "
      ]
     },
     "execution_count": 7,
     "metadata": {},
     "output_type": "execute_result"
    }
   ],
   "source": [
    "grid_search = GridSearchCV(estimator= pipe, \n",
    "                           param_grid = grid, \n",
    "                           cv = 3, \n",
    "                           scoring = 'roc_auc',\n",
    "                           verbose = 0,\n",
    "                           n_jobs = -1)\n",
    "\n",
    "modelo = grid_search.fit(train_x,train_y)\n",
    "\n",
    "pd.DataFrame(grid_search.cv_results_).sort_values(by = 'rank_test_score')"
   ]
  },
  {
   "cell_type": "markdown",
   "id": "fd6f59ab",
   "metadata": {},
   "source": [
    "## EVALUAR"
   ]
  },
  {
   "cell_type": "markdown",
   "id": "90ac986a",
   "metadata": {},
   "source": [
    "### Predecir sobre validación"
   ]
  },
  {
   "cell_type": "code",
   "execution_count": 8,
   "id": "ca079478",
   "metadata": {},
   "outputs": [],
   "source": [
    "pred = modelo.best_estimator_.predict_proba(val_x)[:, 1]"
   ]
  },
  {
   "cell_type": "markdown",
   "id": "fe9fb9a1",
   "metadata": {},
   "source": [
    "### Evaluar sobre validación"
   ]
  },
  {
   "cell_type": "code",
   "execution_count": 9,
   "id": "f249d6b8",
   "metadata": {},
   "outputs": [
    {
     "data": {
      "text/plain": [
       "0.8659392478302798"
      ]
     },
     "execution_count": 9,
     "metadata": {},
     "output_type": "execute_result"
    }
   ],
   "source": [
    "roc_auc_score(val_y, pred)"
   ]
  },
  {
   "cell_type": "markdown",
   "id": "87d46a1d",
   "metadata": {},
   "source": [
    "### Examinar el mejor modelo"
   ]
  },
  {
   "cell_type": "code",
   "execution_count": 10,
   "id": "f32990c1",
   "metadata": {},
   "outputs": [
    {
     "data": {
      "text/plain": [
       "Pipeline(steps=[('algoritmo',\n",
       "                 LogisticRegression(C=0.75, n_jobs=-1, penalty='none',\n",
       "                                    solver='saga'))])"
      ]
     },
     "execution_count": 10,
     "metadata": {},
     "output_type": "execute_result"
    }
   ],
   "source": [
    "modelo.best_estimator_"
   ]
  },
  {
   "cell_type": "code",
   "execution_count": 14,
   "id": "a1a5625e",
   "metadata": {},
   "outputs": [
    {
     "data": {
      "text/plain": [
       "array([[ 4.04238519,  9.45017279,  1.3558226 , -3.75103595,  1.05712375,\n",
       "         1.65723442, -0.20838935,  1.92345557, -1.18660787, -0.74286649,\n",
       "        -2.17536716, -0.85100773,  0.8494961 ,  0.23059706]])"
      ]
     },
     "execution_count": 14,
     "metadata": {},
     "output_type": "execute_result"
    }
   ],
   "source": [
    "modelo.best_estimator_.named_steps.algoritmo.coef_"
   ]
  },
  {
   "cell_type": "code",
   "execution_count": 15,
   "id": "6849487b",
   "metadata": {},
   "outputs": [
    {
     "data": {
      "text/plain": [
       "array(['tiempo_en_site_total_mms', 'score_actividad_mms',\n",
       "       'score_perfil_mms', 'paginas_vistas_visita_mms',\n",
       "       'ult_actividad_SMS Sent', 'visitas_total_mms', 'ambito_Select',\n",
       "       'ocupacion_Working Professional',\n",
       "       'ult_actividad_Chat Conversation', 'ocupacion_Unemployed',\n",
       "       'ult_actividad_Converted to Lead',\n",
       "       'ult_actividad_Page Visited on Website', 'ult_actividad_OTROS',\n",
       "       'ambito_Marketing Management'], dtype=object)"
      ]
     },
     "execution_count": 15,
     "metadata": {},
     "output_type": "execute_result"
    }
   ],
   "source": [
    "modelo.best_estimator_.named_steps.algoritmo.feature_names_in_"
   ]
  },
  {
   "cell_type": "code",
   "execution_count": 21,
   "id": "4367d313",
   "metadata": {},
   "outputs": [
    {
     "data": {
      "text/plain": [
       "score_actividad_mms                    0    9.45\n",
       "tiempo_en_site_total_mms               0    4.04\n",
       "ocupacion_Working Professional         0    1.92\n",
       "visitas_total_mms                      0    1.66\n",
       "score_perfil_mms                       0    1.36\n",
       "ult_actividad_SMS Sent                 0    1.06\n",
       "ult_actividad_OTROS                    0    0.85\n",
       "ambito_Marketing Management            0    0.23\n",
       "ambito_Select                          0   -0.21\n",
       "ocupacion_Unemployed                   0   -0.74\n",
       "ult_actividad_Page Visited on Website  0   -0.85\n",
       "ult_actividad_Chat Conversation        0   -1.19\n",
       "ult_actividad_Converted to Lead        0   -2.18\n",
       "paginas_vistas_visita_mms              0   -3.75\n",
       "dtype: float64"
      ]
     },
     "execution_count": 21,
     "metadata": {},
     "output_type": "execute_result"
    }
   ],
   "source": [
    "#Creamos un df para visualizarlo mejor\n",
    "pd.DataFrame(data =modelo.best_estimator_.named_steps.algoritmo.coef_,\n",
    "            columns = modelo.best_estimator_.named_steps.algoritmo.feature_names_in_).unstack().sort_values(ascending = False)"
   ]
  },
  {
   "cell_type": "markdown",
   "id": "f2848960",
   "metadata": {},
   "source": [
    "## REPORTING DEL MODELO"
   ]
  },
  {
   "cell_type": "markdown",
   "id": "e25e2c94",
   "metadata": {},
   "source": [
    "### Gain Chart"
   ]
  },
  {
   "cell_type": "code",
   "execution_count": 22,
   "id": "2e63ef9d",
   "metadata": {},
   "outputs": [
    {
     "data": {
      "image/png": "[encoded data removed]",
      "text/plain": [
       "<Figure size 576x396 with 1 Axes>"
      ]
     },
     "metadata": {},
     "output_type": "display_data"
    }
   ],
   "source": [
    "fig, ax = plt.subplots()\n",
    "\n",
    "skplt.metrics.plot_cumulative_gain(val_y, modelo.best_estimator_.predict_proba(val_x), ax=ax) \n",
    "\n",
    "#Eliminamos la línea de los ceros y personalizamos la leyenda\n",
    "del ax.lines[0]                 \n",
    "plt.legend(labels = ['Modelo','Aleatoria']);"
   ]
  },
  {
   "cell_type": "markdown",
   "id": "148a74a7",
   "metadata": {},
   "source": [
    "### Lift Chart"
   ]
  },
  {
   "cell_type": "code",
   "execution_count": 23,
   "id": "32e69974",
   "metadata": {},
   "outputs": [
    {
     "data": {
      "image/png": "[encoded data removed]",
      "text/plain": [
       "<Figure size 576x396 with 1 Axes>"
      ]
     },
     "metadata": {},
     "output_type": "display_data"
    }
   ],
   "source": [
    "fig, ax = plt.subplots()\n",
    "\n",
    "skplt.metrics.plot_lift_curve(val_y, modelo.best_estimator_.predict_proba(val_x), ax=ax) \n",
    "\n",
    "#Eliminamos la línea de los ceros y personalizamos la leyenda\n",
    "del ax.lines[0]                 \n",
    "plt.legend(labels = ['Modelo','Aleatoria']);"
   ]
  },
  {
   "cell_type": "markdown",
   "id": "b0f64e40",
   "metadata": {},
   "source": [
    "### ROC Chart"
   ]
  },
  {
   "cell_type": "code",
   "execution_count": 24,
   "id": "a0f575cf",
   "metadata": {},
   "outputs": [
    {
     "data": {
      "image/png": "[encoded data removed]",
      "text/plain": [
       "<Figure size 576x396 with 1 Axes>"
      ]
     },
     "metadata": {},
     "output_type": "display_data"
    }
   ],
   "source": [
    "fig, ax = plt.subplots()\n",
    "\n",
    "skplt.metrics.plot_roc(val_y, modelo.best_estimator_.predict_proba(val_x), ax=ax) \n",
    "\n",
    "#Eliminamos la línea de los ceros y personalizamos la leyenda\n",
    "del ax.lines[0]                 \n",
    "del ax.lines[1] \n",
    "del ax.lines[1]\n",
    "plt.legend(labels = ['Modelo','Aleatoria']);"
   ]
  }
 ],
 "metadata": {
  "kernelspec": {
   "display_name": "Python 3 (ipykernel)",
   "language": "python",
   "name": "python3"
  },
  "language_info": {
   "codemirror_mode": {
    "name": "ipython",
    "version": 3
   },
   "file_extension": ".py",
   "mimetype": "text/x-python",
   "name": "python",
   "nbconvert_exporter": "python",
   "pygments_lexer": "ipython3",
   "version": "3.9.7"
  },
  "toc": {
   "base_numbering": 1,
   "nav_menu": {},
   "number_sections": true,
   "sideBar": true,
   "skip_h1_title": false,
   "title_cell": "Table of Contents",
   "title_sidebar": "Contents",
   "toc_cell": false,
   "toc_position": {
    "height": "calc(100% - 180px)",
    "left": "10px",
    "top": "150px",
    "width": "253.95px"
   },
   "toc_section_display": true,
   "toc_window_display": true
  },
  "varInspector": {
   "cols": {
    "lenName": 16,
    "lenType": 16,
    "lenVar": 40
   },
   "kernels_config": {
    "python": {
     "delete_cmd_postfix": "",
     "delete_cmd_prefix": "del ",
     "library": "var_list.py",
     "varRefreshCmd": "print(var_dic_list())"
    },
    "r": {
     "delete_cmd_postfix": ") ",
     "delete_cmd_prefix": "rm(",
     "library": "var_list.r",
     "varRefreshCmd": "cat(var_dic_list()) "
    }
   },
   "position": {
    "height": "546.85px",
    "left": "1531.75px",
    "right": "20px",
    "top": "115px",
    "width": "350px"
   },
   "types_to_exclude": [
    "module",
    "function",
    "builtin_function_or_method",
    "instance",
    "_Feature"
   ],
   "window_display": false
  }
 },
 "nbformat": 4,
 "nbformat_minor": 5
}
