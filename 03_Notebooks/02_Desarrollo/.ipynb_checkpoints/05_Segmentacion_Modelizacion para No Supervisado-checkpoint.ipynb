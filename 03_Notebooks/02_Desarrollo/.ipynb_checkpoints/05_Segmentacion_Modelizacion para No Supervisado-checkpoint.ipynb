{
 "cells": [
  {
   "cell_type": "markdown",
   "id": "d31dea65",
   "metadata": {},
   "source": [
    "# MODELIZACIÓN PARA NO SUPERVISADO"
   ]
  },
  {
   "cell_type": "markdown",
   "id": "8da437fb",
   "metadata": {},
   "source": [
    "**IMPORTANTE**: Esta plantilla está diseñada para una visión de máximos utilizando el framework de The Ultimate Algo Machine. Si tienes problemas de memoria o rendimiento recuerda reducir el problema mediante:\n",
    "\n",
    "* Muestreo\n",
    "* Balanceo undersampling\n",
    "* Reducir el número de k a testar\n",
    "* Reducir el número de repeticiones de n_init"
   ]
  },
  {
   "cell_type": "markdown",
   "id": "swiss-fault",
   "metadata": {},
   "source": [
    "## IMPORTAR PAQUETES"
   ]
  },
  {
   "cell_type": "code",
   "execution_count": 5,
   "id": "adjacent-toddler",
   "metadata": {},
   "outputs": [],
   "source": [
    "import numpy as np\n",
    "import pandas as pd\n",
    "import matplotlib.pyplot as plt\n",
    "%matplotlib inline\n",
    "import seaborn as sns\n",
    "\n",
    "from sklearn.model_selection import train_test_split\n",
    "\n",
    "from sklearn.cluster import KMeans\n",
    "from sklearn.metrics import silhouette_score\n",
    "from sklearn.metrics import calinski_harabasz_score\n",
    "from sklearn.metrics import davies_bouldin_score\n",
    "\n",
    "from sklearn.model_selection import GridSearchCV\n",
    "\n",
    "#Autocompletar rápido\n",
    "%config IPCompleter.greedy=True\n",
    "\n",
    "#Desactivar la notación científica\n",
    "pd.options.display.float_format = '{:.2f}'.format\n",
    "\n",
    "#Desactivar los warnings\n",
    "import warnings\n",
    "warnings.filterwarnings(\"ignore\")"
   ]
  },
  {
   "cell_type": "markdown",
   "id": "graduate-compensation",
   "metadata": {},
   "source": [
    "## IMPORTAR LOS DATOS"
   ]
  },
  {
   "cell_type": "markdown",
   "id": "3a5b94ef",
   "metadata": {},
   "source": [
    "Sustituir la ruta del proyecto."
   ]
  },
  {
   "cell_type": "code",
   "execution_count": 17,
   "id": "f9d2de58",
   "metadata": {},
   "outputs": [],
   "source": [
    "ruta_proyecto = 'C:/Users/Jorge/Documents/PythonDataScience/35_Machine_Learning_Framework/PROYECTOS_ML/01_LEADSCORING'"
   ]
  },
  {
   "cell_type": "markdown",
   "id": "c3363765",
   "metadata": {},
   "source": [
    "Nombres de los ficheros de datos."
   ]
  },
  {
   "cell_type": "code",
   "execution_count": 44,
   "id": "a9e2e04a",
   "metadata": {},
   "outputs": [],
   "source": [
    "nombre_df = 'df_tablon.pickle'"
   ]
  },
  {
   "cell_type": "markdown",
   "id": "b9825018",
   "metadata": {},
   "source": [
    "Cargar los datos."
   ]
  },
  {
   "cell_type": "code",
   "execution_count": 45,
   "id": "cab6ebcd",
   "metadata": {},
   "outputs": [],
   "source": [
    "df = pd.read_pickle(ruta_proyecto + '/02_Datos/03_Trabajo/' + nombre_df)"
   ]
  },
  {
   "cell_type": "code",
   "execution_count": 47,
   "id": "25840c28",
   "metadata": {},
   "outputs": [],
   "source": [
    "#Tras varias pruebas encontramos la mejor combinacion de variables por lo que eliminamos las demás\n",
    "df.drop(columns =['fuente_Chat',\n",
    "                  'fuente_Direct Traffic',\n",
    "                  'fuente_Google',\n",
    "                  'fuente_OTROS',\n",
    "                  'fuente_Organic Search',\n",
    "                  'fuente_Reference',\n",
    "                  'score_actividad_mms',\n",
    "                  'score_perfil_mms',\n",
    "                  'ambito_Banking, Investment And Insurance',\n",
    "                  'ambito_Business Administration',\n",
    "                  'ambito_Finance Management',\n",
    "                  'ambito_Healthcare Management',\n",
    "                  'ambito_Human Resource Management',\n",
    "                  'ambito_IT Projects Management',\n",
    "                  'ambito_International Business',\n",
    "                  'ambito_Marketing Management',\n",
    "                  'ambito_Media and Advertising',\n",
    "                  'ambito_OTROS',\n",
    "                  'ambito_Operations Management',\n",
    "                  'ambito_Select',\n",
    "                  'ambito_Supply Chain Management',\n",
    "                  'ambito_Travel and Tourism',\n",
    "                  'descarga_lm_No',\n",
    "                  'descarga_lm_Yes',\n",
    "                  'visitas_total_mms',\n",
    "                  'paginas_vistas_visita_mms'\n",
    "                  ], inplace=True)\n"
   ]
  },
  {
   "cell_type": "markdown",
   "id": "9790d322",
   "metadata": {},
   "source": [
    "## MODELIZAR"
   ]
  },
  {
   "cell_type": "markdown",
   "id": "53bd4ad6",
   "metadata": {},
   "source": [
    "### Crear el espacio de soluciones"
   ]
  },
  {
   "cell_type": "code",
   "execution_count": 48,
   "id": "eeaa3ea1",
   "metadata": {},
   "outputs": [],
   "source": [
    "min_k = 3\n",
    "max_k = 7\n",
    "\n",
    "soluciones = list(range(min_k,max_k))"
   ]
  },
  {
   "cell_type": "markdown",
   "id": "1f836ca9",
   "metadata": {},
   "source": [
    "### Crear listas para guardar la salida de cada métrica"
   ]
  },
  {
   "cell_type": "code",
   "execution_count": 49,
   "id": "cfb75560",
   "metadata": {},
   "outputs": [],
   "source": [
    "codo = []\n",
    "silueta = []\n",
    "calins = []\n",
    "davies = []"
   ]
  },
  {
   "cell_type": "markdown",
   "id": "159b78b6",
   "metadata": {},
   "source": [
    "### Analizar el espacio de soluciones"
   ]
  },
  {
   "cell_type": "code",
   "execution_count": 50,
   "id": "4b2f40be",
   "metadata": {},
   "outputs": [],
   "source": [
    "for solucion in soluciones:\n",
    "    \n",
    "    #Instanciar\n",
    "    cluster = KMeans(n_clusters = solucion, n_init=10)\n",
    "    \n",
    "    #Entrenar\n",
    "    cluster.fit(df)\n",
    "    \n",
    "    #Recoger las métricas\n",
    "    codo.append(cluster.inertia_)\n",
    "    silueta.append(silhouette_score(df, cluster.labels_))\n",
    "    calins.append(calinski_harabasz_score(df, cluster.labels_))\n",
    "    davies.append(davies_bouldin_score(df, cluster.labels_))"
   ]
  },
  {
   "cell_type": "markdown",
   "id": "eaa2acf8",
   "metadata": {},
   "source": [
    "### Identificar la mejor solucion"
   ]
  },
  {
   "cell_type": "markdown",
   "id": "ba26fca9",
   "metadata": {},
   "source": [
    "#### Analizar las métricas"
   ]
  },
  {
   "cell_type": "code",
   "execution_count": 51,
   "id": "30f9904f",
   "metadata": {},
   "outputs": [
    {
     "data": {
      "text/html": [
       "<div>\n",
       "<style scoped>\n",
       "    .dataframe tbody tr th:only-of-type {\n",
       "        vertical-align: middle;\n",
       "    }\n",
       "\n",
       "    .dataframe tbody tr th {\n",
       "        vertical-align: top;\n",
       "    }\n",
       "\n",
       "    .dataframe thead th {\n",
       "        text-align: right;\n",
       "    }\n",
       "</style>\n",
       "<table border=\"1\" class=\"dataframe\">\n",
       "  <thead>\n",
       "    <tr style=\"text-align: right;\">\n",
       "      <th></th>\n",
       "      <th>Codo</th>\n",
       "      <th>Silueta</th>\n",
       "      <th>Calins</th>\n",
       "      <th>Davies</th>\n",
       "    </tr>\n",
       "    <tr>\n",
       "      <th>Solucion</th>\n",
       "      <th></th>\n",
       "      <th></th>\n",
       "      <th></th>\n",
       "      <th></th>\n",
       "    </tr>\n",
       "  </thead>\n",
       "  <tbody>\n",
       "    <tr>\n",
       "      <th>3</th>\n",
       "      <td>5356.54</td>\n",
       "      <td>0.29</td>\n",
       "      <td>1405.78</td>\n",
       "      <td>1.50</td>\n",
       "    </tr>\n",
       "    <tr>\n",
       "      <th>4</th>\n",
       "      <td>4709.16</td>\n",
       "      <td>0.30</td>\n",
       "      <td>1288.56</td>\n",
       "      <td>1.31</td>\n",
       "    </tr>\n",
       "    <tr>\n",
       "      <th>5</th>\n",
       "      <td>4218.69</td>\n",
       "      <td>0.33</td>\n",
       "      <td>1219.81</td>\n",
       "      <td>1.50</td>\n",
       "    </tr>\n",
       "    <tr>\n",
       "      <th>6</th>\n",
       "      <td>3815.67</td>\n",
       "      <td>0.35</td>\n",
       "      <td>1181.34</td>\n",
       "      <td>1.43</td>\n",
       "    </tr>\n",
       "  </tbody>\n",
       "</table>\n",
       "</div>"
      ],
      "text/plain": [
       "            Codo  Silueta  Calins  Davies\n",
       "Solucion                                 \n",
       "3        5356.54     0.29 1405.78    1.50\n",
       "4        4709.16     0.30 1288.56    1.31\n",
       "5        4218.69     0.33 1219.81    1.50\n",
       "6        3815.67     0.35 1181.34    1.43"
      ]
     },
     "execution_count": 51,
     "metadata": {},
     "output_type": "execute_result"
    }
   ],
   "source": [
    "metricas = pd.DataFrame({'Solucion':soluciones,\n",
    "              'Codo': codo,\n",
    "              'Silueta':silueta,\n",
    "              'Calins':calins,           \n",
    "              'Davies':davies}).set_index('Solucion')\n",
    "\n",
    "metricas"
   ]
  },
  {
   "cell_type": "markdown",
   "id": "1f5164a5",
   "metadata": {},
   "source": [
    "#### Analizar los gráficos"
   ]
  },
  {
   "cell_type": "code",
   "execution_count": 52,
   "id": "16a81e6d",
   "metadata": {
    "scrolled": true
   },
   "outputs": [
    {
     "data": {
      "image/png": "[encoded data removed]",
      "text/plain": [
       "<Figure size 864x576 with 4 Axes>"
      ]
     },
     "metadata": {
      "needs_background": "light"
     },
     "output_type": "display_data"
    }
   ],
   "source": [
    "metricas.plot(subplots = True, figsize = (12,8), layout = (2,2), sharex = False);"
   ]
  },
  {
   "cell_type": "markdown",
   "id": "99e34c6f",
   "metadata": {},
   "source": [
    "### Segmentación final con la mejor solucion"
   ]
  },
  {
   "cell_type": "code",
   "execution_count": 56,
   "id": "3ebc920f",
   "metadata": {},
   "outputs": [
    {
     "data": {
      "text/plain": [
       "KMeans(n_clusters=6)"
      ]
     },
     "execution_count": 56,
     "metadata": {},
     "output_type": "execute_result"
    }
   ],
   "source": [
    "mejor_solucion =6\n",
    "\n",
    "#Instanciar\n",
    "cluster = KMeans(n_clusters = mejor_solucion, n_init=10)\n",
    "    \n",
    "#Entrenar\n",
    "cluster.fit(df)"
   ]
  },
  {
   "cell_type": "markdown",
   "id": "fd6f59ab",
   "metadata": {},
   "source": [
    "## EVALUAR"
   ]
  },
  {
   "cell_type": "markdown",
   "id": "99827e53",
   "metadata": {},
   "source": [
    "Comprobar que los perfiles obtenidos en entrenamiento son similares a los objetidos al predecir sobre validación."
   ]
  },
  {
   "cell_type": "markdown",
   "id": "90ac986a",
   "metadata": {},
   "source": [
    "### Calcular el segmento en entrenamiento y en validación"
   ]
  },
  {
   "cell_type": "code",
   "execution_count": 57,
   "id": "874aa873",
   "metadata": {},
   "outputs": [],
   "source": [
    "df['segmento'] = cluster.predict(df)"
   ]
  },
  {
   "cell_type": "markdown",
   "id": "87d46a1d",
   "metadata": {},
   "source": [
    "## PERFILAR LOS SEGMENTOS"
   ]
  },
  {
   "cell_type": "code",
   "execution_count": 58,
   "id": "f32990c1",
   "metadata": {},
   "outputs": [
    {
     "data": {
      "text/html": [
       "<style type=\"text/css\">\n",
       "#T_091a8_row0_col0, #T_091a8_row0_col1, #T_091a8_row0_col3, #T_091a8_row1_col2, #T_091a8_row1_col5, #T_091a8_row2_col1, #T_091a8_row3_col1, #T_091a8_row4_col3, #T_091a8_row4_col5, #T_091a8_row5_col3, #T_091a8_row5_col5, #T_091a8_row6_col3, #T_091a8_row6_col5, #T_091a8_row7_col0, #T_091a8_row7_col1, #T_091a8_row7_col2, #T_091a8_row8_col3, #T_091a8_row8_col5, #T_091a8_row9_col3, #T_091a8_row9_col5, #T_091a8_row10_col1, #T_091a8_row10_col3, #T_091a8_row10_col5, #T_091a8_row11_col0, #T_091a8_row12_col0, #T_091a8_row13_col4, #T_091a8_row14_col0, #T_091a8_row14_col1, #T_091a8_row14_col3, #T_091a8_row14_col5, #T_091a8_row15_col1, #T_091a8_row16_col1 {\n",
       "  background-color: red;\n",
       "}\n",
       "#T_091a8_row0_col2, #T_091a8_row1_col1, #T_091a8_row2_col4, #T_091a8_row3_col2, #T_091a8_row4_col2, #T_091a8_row5_col1, #T_091a8_row6_col1, #T_091a8_row7_col3, #T_091a8_row7_col5, #T_091a8_row8_col1, #T_091a8_row9_col1, #T_091a8_row10_col0, #T_091a8_row11_col4, #T_091a8_row12_col4, #T_091a8_row13_col0, #T_091a8_row14_col4, #T_091a8_row15_col4, #T_091a8_row16_col4 {\n",
       "  background-color: lightgreen;\n",
       "}\n",
       "</style>\n",
       "<table id=\"T_091a8\">\n",
       "  <thead>\n",
       "    <tr>\n",
       "      <th class=\"index_name level0\" >segmento</th>\n",
       "      <th id=\"T_091a8_level0_col0\" class=\"col_heading level0 col0\" >0</th>\n",
       "      <th id=\"T_091a8_level0_col1\" class=\"col_heading level0 col1\" >1</th>\n",
       "      <th id=\"T_091a8_level0_col2\" class=\"col_heading level0 col2\" >2</th>\n",
       "      <th id=\"T_091a8_level0_col3\" class=\"col_heading level0 col3\" >3</th>\n",
       "      <th id=\"T_091a8_level0_col4\" class=\"col_heading level0 col4\" >4</th>\n",
       "      <th id=\"T_091a8_level0_col5\" class=\"col_heading level0 col5\" >5</th>\n",
       "    </tr>\n",
       "  </thead>\n",
       "  <tbody>\n",
       "    <tr>\n",
       "      <th id=\"T_091a8_level0_row0\" class=\"row_heading level0 row0\" >origen_API</th>\n",
       "      <td id=\"T_091a8_row0_col0\" class=\"data row0 col0\" >0.000000</td>\n",
       "      <td id=\"T_091a8_row0_col1\" class=\"data row0 col1\" >0.000000</td>\n",
       "      <td id=\"T_091a8_row0_col2\" class=\"data row0 col2\" >0.926082</td>\n",
       "      <td id=\"T_091a8_row0_col3\" class=\"data row0 col3\" >0.000000</td>\n",
       "      <td id=\"T_091a8_row0_col4\" class=\"data row0 col4\" >0.210204</td>\n",
       "      <td id=\"T_091a8_row0_col5\" class=\"data row0 col5\" >0.917108</td>\n",
       "    </tr>\n",
       "    <tr>\n",
       "      <th id=\"T_091a8_level0_row1\" class=\"row_heading level0 row1\" >origen_Landing Page Submission</th>\n",
       "      <td id=\"T_091a8_row1_col0\" class=\"data row1 col0\" >0.962177</td>\n",
       "      <td id=\"T_091a8_row1_col1\" class=\"data row1 col1\" >1.000000</td>\n",
       "      <td id=\"T_091a8_row1_col2\" class=\"data row1 col2\" >0.000000</td>\n",
       "      <td id=\"T_091a8_row1_col3\" class=\"data row1 col3\" >0.982595</td>\n",
       "      <td id=\"T_091a8_row1_col4\" class=\"data row1 col4\" >0.597959</td>\n",
       "      <td id=\"T_091a8_row1_col5\" class=\"data row1 col5\" >0.000000</td>\n",
       "    </tr>\n",
       "    <tr>\n",
       "      <th id=\"T_091a8_level0_row2\" class=\"row_heading level0 row2\" >origen_Lead Add Form</th>\n",
       "      <td id=\"T_091a8_row2_col0\" class=\"data row2 col0\" >0.031365</td>\n",
       "      <td id=\"T_091a8_row2_col1\" class=\"data row2 col1\" >0.000000</td>\n",
       "      <td id=\"T_091a8_row2_col2\" class=\"data row2 col2\" >0.063358</td>\n",
       "      <td id=\"T_091a8_row2_col3\" class=\"data row2 col3\" >0.007120</td>\n",
       "      <td id=\"T_091a8_row2_col4\" class=\"data row2 col4\" >0.187755</td>\n",
       "      <td id=\"T_091a8_row2_col5\" class=\"data row2 col5\" >0.079365</td>\n",
       "    </tr>\n",
       "    <tr>\n",
       "      <th id=\"T_091a8_level0_row3\" class=\"row_heading level0 row3\" >origen_OTROS</th>\n",
       "      <td id=\"T_091a8_row3_col0\" class=\"data row3 col0\" >0.006458</td>\n",
       "      <td id=\"T_091a8_row3_col1\" class=\"data row3 col1\" >0.000000</td>\n",
       "      <td id=\"T_091a8_row3_col2\" class=\"data row3 col2\" >0.010560</td>\n",
       "      <td id=\"T_091a8_row3_col3\" class=\"data row3 col3\" >0.010285</td>\n",
       "      <td id=\"T_091a8_row3_col4\" class=\"data row3 col4\" >0.004082</td>\n",
       "      <td id=\"T_091a8_row3_col5\" class=\"data row3 col5\" >0.003527</td>\n",
       "    </tr>\n",
       "    <tr>\n",
       "      <th id=\"T_091a8_level0_row4\" class=\"row_heading level0 row4\" >ult_actividad_Chat Conversation</th>\n",
       "      <td id=\"T_091a8_row4_col0\" class=\"data row4 col0\" >0.011993</td>\n",
       "      <td id=\"T_091a8_row4_col1\" class=\"data row4 col1\" >0.079922</td>\n",
       "      <td id=\"T_091a8_row4_col2\" class=\"data row4 col2\" >0.225977</td>\n",
       "      <td id=\"T_091a8_row4_col3\" class=\"data row4 col3\" >0.000000</td>\n",
       "      <td id=\"T_091a8_row4_col4\" class=\"data row4 col4\" >0.014286</td>\n",
       "      <td id=\"T_091a8_row4_col5\" class=\"data row4 col5\" >0.000000</td>\n",
       "    </tr>\n",
       "    <tr>\n",
       "      <th id=\"T_091a8_level0_row5\" class=\"row_heading level0 row5\" >ult_actividad_Converted to Lead</th>\n",
       "      <td id=\"T_091a8_row5_col0\" class=\"data row5 col0\" >0.014760</td>\n",
       "      <td id=\"T_091a8_row5_col1\" class=\"data row5 col1\" >0.313840</td>\n",
       "      <td id=\"T_091a8_row5_col2\" class=\"data row5 col2\" >0.115100</td>\n",
       "      <td id=\"T_091a8_row5_col3\" class=\"data row5 col3\" >0.000000</td>\n",
       "      <td id=\"T_091a8_row5_col4\" class=\"data row5 col4\" >0.024490</td>\n",
       "      <td id=\"T_091a8_row5_col5\" class=\"data row5 col5\" >0.000000</td>\n",
       "    </tr>\n",
       "    <tr>\n",
       "      <th id=\"T_091a8_level0_row6\" class=\"row_heading level0 row6\" >ult_actividad_Email Link Clicked</th>\n",
       "      <td id=\"T_091a8_row6_col0\" class=\"data row6 col0\" >0.017528</td>\n",
       "      <td id=\"T_091a8_row6_col1\" class=\"data row6 col1\" >0.107212</td>\n",
       "      <td id=\"T_091a8_row6_col2\" class=\"data row6 col2\" >0.064414</td>\n",
       "      <td id=\"T_091a8_row6_col3\" class=\"data row6 col3\" >0.000000</td>\n",
       "      <td id=\"T_091a8_row6_col4\" class=\"data row6 col4\" >0.026531</td>\n",
       "      <td id=\"T_091a8_row6_col5\" class=\"data row6 col5\" >0.000000</td>\n",
       "    </tr>\n",
       "    <tr>\n",
       "      <th id=\"T_091a8_level0_row7\" class=\"row_heading level0 row7\" >ult_actividad_Email Opened</th>\n",
       "      <td id=\"T_091a8_row7_col0\" class=\"data row7 col0\" >0.000000</td>\n",
       "      <td id=\"T_091a8_row7_col1\" class=\"data row7 col1\" >0.000000</td>\n",
       "      <td id=\"T_091a8_row7_col2\" class=\"data row7 col2\" >0.000000</td>\n",
       "      <td id=\"T_091a8_row7_col3\" class=\"data row7 col3\" >1.000000</td>\n",
       "      <td id=\"T_091a8_row7_col4\" class=\"data row7 col4\" >0.402041</td>\n",
       "      <td id=\"T_091a8_row7_col5\" class=\"data row7 col5\" >1.000000</td>\n",
       "    </tr>\n",
       "    <tr>\n",
       "      <th id=\"T_091a8_level0_row8\" class=\"row_heading level0 row8\" >ult_actividad_OTROS</th>\n",
       "      <td id=\"T_091a8_row8_col0\" class=\"data row8 col0\" >0.026753</td>\n",
       "      <td id=\"T_091a8_row8_col1\" class=\"data row8 col1\" >0.130604</td>\n",
       "      <td id=\"T_091a8_row8_col2\" class=\"data row8 col2\" >0.112988</td>\n",
       "      <td id=\"T_091a8_row8_col3\" class=\"data row8 col3\" >0.000000</td>\n",
       "      <td id=\"T_091a8_row8_col4\" class=\"data row8 col4\" >0.075510</td>\n",
       "      <td id=\"T_091a8_row8_col5\" class=\"data row8 col5\" >0.000000</td>\n",
       "    </tr>\n",
       "    <tr>\n",
       "      <th id=\"T_091a8_level0_row9\" class=\"row_heading level0 row9\" >ult_actividad_Page Visited on Website</th>\n",
       "      <td id=\"T_091a8_row9_col0\" class=\"data row9 col0\" >0.053506</td>\n",
       "      <td id=\"T_091a8_row9_col1\" class=\"data row9 col1\" >0.368421</td>\n",
       "      <td id=\"T_091a8_row9_col2\" class=\"data row9 col2\" >0.110876</td>\n",
       "      <td id=\"T_091a8_row9_col3\" class=\"data row9 col3\" >0.000000</td>\n",
       "      <td id=\"T_091a8_row9_col4\" class=\"data row9 col4\" >0.048980</td>\n",
       "      <td id=\"T_091a8_row9_col5\" class=\"data row9 col5\" >0.000000</td>\n",
       "    </tr>\n",
       "    <tr>\n",
       "      <th id=\"T_091a8_level0_row10\" class=\"row_heading level0 row10\" >ult_actividad_SMS Sent</th>\n",
       "      <td id=\"T_091a8_row10_col0\" class=\"data row10 col0\" >0.875461</td>\n",
       "      <td id=\"T_091a8_row10_col1\" class=\"data row10 col1\" >0.000000</td>\n",
       "      <td id=\"T_091a8_row10_col2\" class=\"data row10 col2\" >0.370644</td>\n",
       "      <td id=\"T_091a8_row10_col3\" class=\"data row10 col3\" >0.000000</td>\n",
       "      <td id=\"T_091a8_row10_col4\" class=\"data row10 col4\" >0.408163</td>\n",
       "      <td id=\"T_091a8_row10_col5\" class=\"data row10 col5\" >0.000000</td>\n",
       "    </tr>\n",
       "    <tr>\n",
       "      <th id=\"T_091a8_level0_row11\" class=\"row_heading level0 row11\" >ocupacion_OTROS</th>\n",
       "      <td id=\"T_091a8_row11_col0\" class=\"data row11 col0\" >0.000000</td>\n",
       "      <td id=\"T_091a8_row11_col1\" class=\"data row11 col1\" >0.003899</td>\n",
       "      <td id=\"T_091a8_row11_col2\" class=\"data row11 col2\" >0.005280</td>\n",
       "      <td id=\"T_091a8_row11_col3\" class=\"data row11 col3\" >0.000791</td>\n",
       "      <td id=\"T_091a8_row11_col4\" class=\"data row11 col4\" >0.020408</td>\n",
       "      <td id=\"T_091a8_row11_col5\" class=\"data row11 col5\" >0.008818</td>\n",
       "    </tr>\n",
       "    <tr>\n",
       "      <th id=\"T_091a8_level0_row12\" class=\"row_heading level0 row12\" >ocupacion_Student</th>\n",
       "      <td id=\"T_091a8_row12_col0\" class=\"data row12 col0\" >0.014760</td>\n",
       "      <td id=\"T_091a8_row12_col1\" class=\"data row12 col1\" >0.023392</td>\n",
       "      <td id=\"T_091a8_row12_col2\" class=\"data row12 col2\" >0.020063</td>\n",
       "      <td id=\"T_091a8_row12_col3\" class=\"data row12 col3\" >0.019778</td>\n",
       "      <td id=\"T_091a8_row12_col4\" class=\"data row12 col4\" >0.061224</td>\n",
       "      <td id=\"T_091a8_row12_col5\" class=\"data row12 col5\" >0.028219</td>\n",
       "    </tr>\n",
       "    <tr>\n",
       "      <th id=\"T_091a8_level0_row13\" class=\"row_heading level0 row13\" >ocupacion_Unemployed</th>\n",
       "      <td id=\"T_091a8_row13_col0\" class=\"data row13 col0\" >0.985240</td>\n",
       "      <td id=\"T_091a8_row13_col1\" class=\"data row13 col1\" >0.972710</td>\n",
       "      <td id=\"T_091a8_row13_col2\" class=\"data row13 col2\" >0.970433</td>\n",
       "      <td id=\"T_091a8_row13_col3\" class=\"data row13 col3\" >0.979430</td>\n",
       "      <td id=\"T_091a8_row13_col4\" class=\"data row13 col4\" >0.000000</td>\n",
       "      <td id=\"T_091a8_row13_col5\" class=\"data row13 col5\" >0.962963</td>\n",
       "    </tr>\n",
       "    <tr>\n",
       "      <th id=\"T_091a8_level0_row14\" class=\"row_heading level0 row14\" >ocupacion_Working Professional</th>\n",
       "      <td id=\"T_091a8_row14_col0\" class=\"data row14 col0\" >0.000000</td>\n",
       "      <td id=\"T_091a8_row14_col1\" class=\"data row14 col1\" >0.000000</td>\n",
       "      <td id=\"T_091a8_row14_col2\" class=\"data row14 col2\" >0.004224</td>\n",
       "      <td id=\"T_091a8_row14_col3\" class=\"data row14 col3\" >0.000000</td>\n",
       "      <td id=\"T_091a8_row14_col4\" class=\"data row14 col4\" >0.918367</td>\n",
       "      <td id=\"T_091a8_row14_col5\" class=\"data row14 col5\" >0.000000</td>\n",
       "    </tr>\n",
       "    <tr>\n",
       "      <th id=\"T_091a8_level0_row15\" class=\"row_heading level0 row15\" >tiempo_en_site_total_mms</th>\n",
       "      <td id=\"T_091a8_row15_col0\" class=\"data row15 col0\" >0.322513</td>\n",
       "      <td id=\"T_091a8_row15_col1\" class=\"data row15 col1\" >0.196229</td>\n",
       "      <td id=\"T_091a8_row15_col2\" class=\"data row15 col2\" >0.244309</td>\n",
       "      <td id=\"T_091a8_row15_col3\" class=\"data row15 col3\" >0.260507</td>\n",
       "      <td id=\"T_091a8_row15_col4\" class=\"data row15 col4\" >0.334497</td>\n",
       "      <td id=\"T_091a8_row15_col5\" class=\"data row15 col5\" >0.230411</td>\n",
       "    </tr>\n",
       "    <tr>\n",
       "      <th id=\"T_091a8_level0_row16\" class=\"row_heading level0 row16\" >compra</th>\n",
       "      <td id=\"T_091a8_row16_col0\" class=\"data row16 col0\" >0.571956</td>\n",
       "      <td id=\"T_091a8_row16_col1\" class=\"data row16 col1\" >0.000000</td>\n",
       "      <td id=\"T_091a8_row16_col2\" class=\"data row16 col2\" >0.401267</td>\n",
       "      <td id=\"T_091a8_row16_col3\" class=\"data row16 col3\" >0.288766</td>\n",
       "      <td id=\"T_091a8_row16_col4\" class=\"data row16 col4\" >0.924490</td>\n",
       "      <td id=\"T_091a8_row16_col5\" class=\"data row16 col5\" >0.391534</td>\n",
       "    </tr>\n",
       "  </tbody>\n",
       "</table>\n"
      ],
      "text/plain": [
       "<pandas.io.formats.style.Styler at 0x136c379cd60>"
      ]
     },
     "execution_count": 58,
     "metadata": {},
     "output_type": "execute_result"
    }
   ],
   "source": [
    "df.groupby('segmento').mean().T \\\n",
    "    .style.highlight_max(color = 'lightgreen', axis = 1) \\\n",
    "    .highlight_min(color = 'red', axis = 1)"
   ]
  },
  {
   "cell_type": "code",
   "execution_count": 59,
   "id": "d4850adf",
   "metadata": {},
   "outputs": [
    {
     "data": {
      "text/plain": [
       "3   0.26\n",
       "0   0.22\n",
       "2   0.19\n",
       "5   0.12\n",
       "1   0.11\n",
       "4   0.10\n",
       "Name: segmento, dtype: float64"
      ]
     },
     "execution_count": 59,
     "metadata": {},
     "output_type": "execute_result"
    }
   ],
   "source": [
    "#Comprobacion de los porcentajes de leads que se obtienen de cada segmento\n",
    "df.segmento.value_counts(normalize=True)"
   ]
  },
  {
   "cell_type": "code",
   "execution_count": null,
   "id": "3a15241d",
   "metadata": {},
   "outputs": [],
   "source": []
  }
 ],
 "metadata": {
  "kernelspec": {
   "display_name": "Python 3 (ipykernel)",
   "language": "python",
   "name": "python3"
  },
  "language_info": {
   "codemirror_mode": {
    "name": "ipython",
    "version": 3
   },
   "file_extension": ".py",
   "mimetype": "text/x-python",
   "name": "python",
   "nbconvert_exporter": "python",
   "pygments_lexer": "ipython3",
   "version": "3.9.7"
  },
  "toc": {
   "base_numbering": 1,
   "nav_menu": {},
   "number_sections": true,
   "sideBar": true,
   "skip_h1_title": false,
   "title_cell": "Table of Contents",
   "title_sidebar": "Contents",
   "toc_cell": false,
   "toc_position": {
    "height": "calc(100% - 180px)",
    "left": "10px",
    "top": "150px",
    "width": "253.95px"
   },
   "toc_section_display": true,
   "toc_window_display": true
  },
  "varInspector": {
   "cols": {
    "lenName": 16,
    "lenType": 16,
    "lenVar": 40
   },
   "kernels_config": {
    "python": {
     "delete_cmd_postfix": "",
     "delete_cmd_prefix": "del ",
     "library": "var_list.py",
     "varRefreshCmd": "print(var_dic_list())"
    },
    "r": {
     "delete_cmd_postfix": ") ",
     "delete_cmd_prefix": "rm(",
     "library": "var_list.r",
     "varRefreshCmd": "cat(var_dic_list()) "
    }
   },
   "position": {
    "height": "546.85px",
    "left": "1531.75px",
    "right": "20px",
    "top": "115px",
    "width": "350px"
   },
   "types_to_exclude": [
    "module",
    "function",
    "builtin_function_or_method",
    "instance",
    "_Feature"
   ],
   "window_display": false
  }
 },
 "nbformat": 4,
 "nbformat_minor": 5
}
