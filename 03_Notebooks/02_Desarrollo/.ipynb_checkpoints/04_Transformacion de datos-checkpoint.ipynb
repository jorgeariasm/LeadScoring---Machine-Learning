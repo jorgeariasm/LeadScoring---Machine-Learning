{
 "cells": [
  {
   "cell_type": "markdown",
   "id": "d31dea65",
   "metadata": {},
   "source": [
    "# TRANSFORMACIÓN DE DATOS"
   ]
  },
  {
   "cell_type": "markdown",
   "id": "swiss-fault",
   "metadata": {},
   "source": [
    "## IMPORTAR PAQUETES"
   ]
  },
  {
   "cell_type": "code",
   "execution_count": 1,
   "id": "adjacent-toddler",
   "metadata": {},
   "outputs": [],
   "source": [
    "import numpy as np\n",
    "import pandas as pd\n",
    "import matplotlib.pyplot as plt\n",
    "%matplotlib inline\n",
    "from sklearn.preprocessing import OneHotEncoder\n",
    "from sklearn.preprocessing import OrdinalEncoder\n",
    "from sklearn.preprocessing import LabelEncoder\n",
    "from category_encoders import TargetEncoder\n",
    "from sklearn.preprocessing import KBinsDiscretizer\n",
    "from sklearn.preprocessing import KBinsDiscretizer\n",
    "from sklearn.preprocessing import Binarizer\n",
    "from sklearn.preprocessing import PowerTransformer\n",
    "from sklearn.preprocessing import QuantileTransformer\n",
    "from sklearn.feature_extraction.text import CountVectorizer\n",
    "from sklearn.feature_extraction.text import TfidfVectorizer\n",
    "from sklearn.preprocessing import MinMaxScaler\n",
    "from sklearn.preprocessing import StandardScaler\n",
    "from sklearn.preprocessing import RobustScaler\n",
    "from sklearn.preprocessing import MaxAbsScaler\n",
    "from imblearn.under_sampling import RandomUnderSampler\n",
    "from imblearn.over_sampling import RandomOverSampler\n",
    "\n",
    "#Automcompletar rápido\n",
    "%config IPCompleter.greedy=True"
   ]
  },
  {
   "cell_type": "markdown",
   "id": "graduate-compensation",
   "metadata": {},
   "source": [
    "## IMPORTAR LOS DATOS"
   ]
  },
  {
   "cell_type": "markdown",
   "id": "3a5b94ef",
   "metadata": {},
   "source": [
    "1.- Sustituir la ruta del proyecto."
   ]
  },
  {
   "cell_type": "code",
   "execution_count": 2,
   "id": "f9d2de58",
   "metadata": {},
   "outputs": [],
   "source": [
    "ruta_proyecto = 'C:/Users/Jorge/Documents/PythonDataScience/35_Machine_Learning_Framework/PROYECTOS_ML/01_LEADSCORING'"
   ]
  },
  {
   "cell_type": "markdown",
   "id": "c3363765",
   "metadata": {},
   "source": [
    "2.- Nombrar los ficheros de datos."
   ]
  },
  {
   "cell_type": "code",
   "execution_count": 3,
   "id": "a9e2e04a",
   "metadata": {},
   "outputs": [],
   "source": [
    "nombre_cat = 'cat_resultado_eda.pickle'\n",
    "nombre_num = 'num_resultado_eda.pickle'"
   ]
  },
  {
   "cell_type": "markdown",
   "id": "b9825018",
   "metadata": {},
   "source": [
    "3.- Cargar los datos."
   ]
  },
  {
   "cell_type": "code",
   "execution_count": 4,
   "id": "cab6ebcd",
   "metadata": {},
   "outputs": [],
   "source": [
    "cat = pd.read_pickle(ruta_proyecto + '/02_Datos/03_Trabajo/' + nombre_cat)\n",
    "num = pd.read_pickle(ruta_proyecto + '/02_Datos/03_Trabajo/' + nombre_num)"
   ]
  },
  {
   "cell_type": "markdown",
   "id": "a1350902",
   "metadata": {},
   "source": [
    "4.- Separar la target."
   ]
  },
  {
   "cell_type": "code",
   "execution_count": 5,
   "id": "095b0ef2",
   "metadata": {},
   "outputs": [],
   "source": [
    "target = num[['compra']].copy().reset_index(drop=True)"
   ]
  },
  {
   "cell_type": "code",
   "execution_count": 7,
   "id": "b7ab1a48",
   "metadata": {},
   "outputs": [
    {
     "data": {
      "text/plain": [
       "Index(['compra', 'visitas_total', 'tiempo_en_site_total',\n",
       "       'paginas_vistas_visita', 'score_actividad', 'score_perfil'],\n",
       "      dtype='object')"
      ]
     },
     "execution_count": 7,
     "metadata": {},
     "output_type": "execute_result"
    }
   ],
   "source": [
    "num.columns"
   ]
  },
  {
   "cell_type": "code",
   "execution_count": 8,
   "id": "c4b14a6e",
   "metadata": {},
   "outputs": [
    {
     "data": {
      "text/plain": [
       "Index(['origen', 'fuente', 'ult_actividad', 'ambito', 'ocupacion',\n",
       "       'descarga_lm'],\n",
       "      dtype='object')"
      ]
     },
     "execution_count": 8,
     "metadata": {},
     "output_type": "execute_result"
    }
   ],
   "source": [
    "cat.columns"
   ]
  },
  {
   "cell_type": "markdown",
   "id": "9790d322",
   "metadata": {},
   "source": [
    "## TRANSFORMACIÓN DE CATEGÓRICAS"
   ]
  },
  {
   "cell_type": "markdown",
   "id": "f1fa5201",
   "metadata": {},
   "source": [
    "### One Hot Encoding"
   ]
  },
  {
   "cell_type": "markdown",
   "id": "da9b786a",
   "metadata": {},
   "source": [
    "#### Variables a aplicar OHE"
   ]
  },
  {
   "cell_type": "code",
   "execution_count": 9,
   "id": "6e36cf47",
   "metadata": {},
   "outputs": [],
   "source": [
    "var_ohe = ['origen','fuente','ult_actividad','ambito', 'ocupacion','descarga_lm']"
   ]
  },
  {
   "cell_type": "markdown",
   "id": "db8d4634",
   "metadata": {},
   "source": [
    "#### Instanciar"
   ]
  },
  {
   "cell_type": "code",
   "execution_count": 10,
   "id": "e75c2ee4",
   "metadata": {},
   "outputs": [],
   "source": [
    "ohe = OneHotEncoder(sparse = False, handle_unknown='ignore')"
   ]
  },
  {
   "cell_type": "markdown",
   "id": "26c9f58f",
   "metadata": {},
   "source": [
    "#### Entrenar y aplicar"
   ]
  },
  {
   "cell_type": "code",
   "execution_count": 11,
   "id": "4162d5a7",
   "metadata": {},
   "outputs": [],
   "source": [
    "cat_ohe = ohe.fit_transform(cat[var_ohe])"
   ]
  },
  {
   "cell_type": "markdown",
   "id": "c9131f15",
   "metadata": {},
   "source": [
    "#### Guardar como dataframe"
   ]
  },
  {
   "cell_type": "code",
   "execution_count": 12,
   "id": "783255d7",
   "metadata": {},
   "outputs": [],
   "source": [
    "cat_ohe = pd.DataFrame(cat_ohe, columns = ohe.get_feature_names_out())"
   ]
  },
  {
   "cell_type": "markdown",
   "id": "ec6bd31a",
   "metadata": {},
   "source": [
    "## TRANSFORMACIÓN DE NUMÉRICAS"
   ]
  },
  {
   "cell_type": "markdown",
   "id": "87434e0c",
   "metadata": {},
   "source": [
    "## UNIFICAR DATASETS TRANSFORMADOS"
   ]
  },
  {
   "cell_type": "code",
   "execution_count": 15,
   "id": "f4df4014",
   "metadata": {},
   "outputs": [],
   "source": [
    "df = pd.concat([cat_ohe, num.reset_index()], axis =1)"
   ]
  },
  {
   "cell_type": "markdown",
   "id": "5f9ffae2",
   "metadata": {},
   "source": [
    "## REESCALAR VARIABLES"
   ]
  },
  {
   "cell_type": "markdown",
   "id": "fbc62831",
   "metadata": {},
   "source": [
    "### Con Min-Max"
   ]
  },
  {
   "cell_type": "code",
   "execution_count": 16,
   "id": "c35ea0a2",
   "metadata": {},
   "outputs": [
    {
     "name": "stdout",
     "output_type": "stream",
     "text": [
      "<class 'pandas.core.frame.DataFrame'>\n",
      "RangeIndex: 4865 entries, 0 to 4864\n",
      "Data columns (total 44 columns):\n",
      " #   Column                                    Non-Null Count  Dtype  \n",
      "---  ------                                    --------------  -----  \n",
      " 0   origen_API                                4865 non-null   float64\n",
      " 1   origen_Landing Page Submission            4865 non-null   float64\n",
      " 2   origen_Lead Add Form                      4865 non-null   float64\n",
      " 3   origen_OTROS                              4865 non-null   float64\n",
      " 4   fuente_Chat                               4865 non-null   float64\n",
      " 5   fuente_Direct Traffic                     4865 non-null   float64\n",
      " 6   fuente_Google                             4865 non-null   float64\n",
      " 7   fuente_OTROS                              4865 non-null   float64\n",
      " 8   fuente_Organic Search                     4865 non-null   float64\n",
      " 9   fuente_Reference                          4865 non-null   float64\n",
      " 10  ult_actividad_Chat Conversation           4865 non-null   float64\n",
      " 11  ult_actividad_Converted to Lead           4865 non-null   float64\n",
      " 12  ult_actividad_Email Link Clicked          4865 non-null   float64\n",
      " 13  ult_actividad_Email Opened                4865 non-null   float64\n",
      " 14  ult_actividad_OTROS                       4865 non-null   float64\n",
      " 15  ult_actividad_Page Visited on Website     4865 non-null   float64\n",
      " 16  ult_actividad_SMS Sent                    4865 non-null   float64\n",
      " 17  ambito_Banking, Investment And Insurance  4865 non-null   float64\n",
      " 18  ambito_Business Administration            4865 non-null   float64\n",
      " 19  ambito_Finance Management                 4865 non-null   float64\n",
      " 20  ambito_Healthcare Management              4865 non-null   float64\n",
      " 21  ambito_Human Resource Management          4865 non-null   float64\n",
      " 22  ambito_IT Projects Management             4865 non-null   float64\n",
      " 23  ambito_International Business             4865 non-null   float64\n",
      " 24  ambito_Marketing Management               4865 non-null   float64\n",
      " 25  ambito_Media and Advertising              4865 non-null   float64\n",
      " 26  ambito_OTROS                              4865 non-null   float64\n",
      " 27  ambito_Operations Management              4865 non-null   float64\n",
      " 28  ambito_Select                             4865 non-null   float64\n",
      " 29  ambito_Supply Chain Management            4865 non-null   float64\n",
      " 30  ambito_Travel and Tourism                 4865 non-null   float64\n",
      " 31  ocupacion_OTROS                           4865 non-null   float64\n",
      " 32  ocupacion_Student                         4865 non-null   float64\n",
      " 33  ocupacion_Unemployed                      4865 non-null   float64\n",
      " 34  ocupacion_Working Professional            4865 non-null   float64\n",
      " 35  descarga_lm_No                            4865 non-null   float64\n",
      " 36  descarga_lm_Yes                           4865 non-null   float64\n",
      " 37  id                                        4865 non-null   int64  \n",
      " 38  compra                                    4865 non-null   int64  \n",
      " 39  visitas_total                             4865 non-null   Int64  \n",
      " 40  tiempo_en_site_total                      4865 non-null   int64  \n",
      " 41  paginas_vistas_visita                     4865 non-null   float64\n",
      " 42  score_actividad                           4865 non-null   float64\n",
      " 43  score_perfil                              4865 non-null   float64\n",
      "dtypes: Int64(1), float64(40), int64(3)\n",
      "memory usage: 1.6 MB\n"
     ]
    }
   ],
   "source": [
    "df.info()"
   ]
  },
  {
   "cell_type": "markdown",
   "id": "de92d3fe",
   "metadata": {},
   "source": [
    "#### Variables a reescalar con Min-Max"
   ]
  },
  {
   "cell_type": "code",
   "execution_count": 42,
   "id": "4c9e40ba",
   "metadata": {},
   "outputs": [],
   "source": [
    "var_mms = df.iloc[:,39:].columns"
   ]
  },
  {
   "cell_type": "markdown",
   "id": "b0b18ca7",
   "metadata": {},
   "source": [
    "#### Instanciar"
   ]
  },
  {
   "cell_type": "code",
   "execution_count": 43,
   "id": "44a71f10",
   "metadata": {},
   "outputs": [],
   "source": [
    "mms = MinMaxScaler()"
   ]
  },
  {
   "cell_type": "markdown",
   "id": "57f8f537",
   "metadata": {},
   "source": [
    "#### Entrenar y aplicar"
   ]
  },
  {
   "cell_type": "code",
   "execution_count": 44,
   "id": "b45d4fa8",
   "metadata": {},
   "outputs": [],
   "source": [
    "df_mms = mms.fit_transform(df[var_mms])"
   ]
  },
  {
   "cell_type": "markdown",
   "id": "aea83d81",
   "metadata": {},
   "source": [
    "#### Guardar como dataframe"
   ]
  },
  {
   "cell_type": "code",
   "execution_count": 45,
   "id": "d5ba3f86",
   "metadata": {},
   "outputs": [],
   "source": [
    "#Añadir sufijos a los nombres\n",
    "nombres_mms = [variable + '_mms' for variable in var_mms]\n",
    "\n",
    "#Guardar como dataframe\n",
    "df_mms = pd.DataFrame(df_mms,columns = nombres_mms)"
   ]
  },
  {
   "cell_type": "markdown",
   "id": "118dac36",
   "metadata": {},
   "source": [
    "## UNIFICAR DATASETS REESCALADOS"
   ]
  },
  {
   "cell_type": "code",
   "execution_count": 55,
   "id": "6db15f40",
   "metadata": {},
   "outputs": [],
   "source": [
    "id = df.id #Tenemos que crear poner el id porque no aparece en ninguno de los otros datasets"
   ]
  },
  {
   "cell_type": "code",
   "execution_count": 56,
   "id": "4e51c41f",
   "metadata": {},
   "outputs": [],
   "source": [
    "incluir = [id,cat_ohe, df_mms, target]"
   ]
  },
  {
   "cell_type": "markdown",
   "id": "4412d913",
   "metadata": {},
   "source": [
    "### Unir todos los dataframes en el tablón analítico"
   ]
  },
  {
   "cell_type": "code",
   "execution_count": 58,
   "id": "bbacffcc",
   "metadata": {},
   "outputs": [],
   "source": [
    "df_tablon = pd.concat(incluir, axis = 1).set_index('id')"
   ]
  },
  {
   "cell_type": "code",
   "execution_count": 60,
   "id": "58157c27",
   "metadata": {},
   "outputs": [
    {
     "data": {
      "text/plain": [
       "origen_API                                  0\n",
       "origen_Landing Page Submission              0\n",
       "origen_Lead Add Form                        0\n",
       "origen_OTROS                                0\n",
       "fuente_Chat                                 0\n",
       "fuente_Direct Traffic                       0\n",
       "fuente_Google                               0\n",
       "fuente_OTROS                                0\n",
       "fuente_Organic Search                       0\n",
       "fuente_Reference                            0\n",
       "ult_actividad_Chat Conversation             0\n",
       "ult_actividad_Converted to Lead             0\n",
       "ult_actividad_Email Link Clicked            0\n",
       "ult_actividad_Email Opened                  0\n",
       "ult_actividad_OTROS                         0\n",
       "ult_actividad_Page Visited on Website       0\n",
       "ult_actividad_SMS Sent                      0\n",
       "ambito_Banking, Investment And Insurance    0\n",
       "ambito_Business Administration              0\n",
       "ambito_Finance Management                   0\n",
       "ambito_Healthcare Management                0\n",
       "ambito_Human Resource Management            0\n",
       "ambito_IT Projects Management               0\n",
       "ambito_International Business               0\n",
       "ambito_Marketing Management                 0\n",
       "ambito_Media and Advertising                0\n",
       "ambito_OTROS                                0\n",
       "ambito_Operations Management                0\n",
       "ambito_Select                               0\n",
       "ambito_Supply Chain Management              0\n",
       "ambito_Travel and Tourism                   0\n",
       "ocupacion_OTROS                             0\n",
       "ocupacion_Student                           0\n",
       "ocupacion_Unemployed                        0\n",
       "ocupacion_Working Professional              0\n",
       "descarga_lm_No                              0\n",
       "descarga_lm_Yes                             0\n",
       "visitas_total_mms                           0\n",
       "tiempo_en_site_total_mms                    0\n",
       "paginas_vistas_visita_mms                   0\n",
       "score_actividad_mms                         0\n",
       "score_perfil_mms                            0\n",
       "compra                                      0\n",
       "dtype: int64"
      ]
     },
     "execution_count": 60,
     "metadata": {},
     "output_type": "execute_result"
    }
   ],
   "source": [
    "#Comprobaciones\n",
    "#df_tablon.isna().sum()"
   ]
  },
  {
   "cell_type": "code",
   "execution_count": 59,
   "id": "d2e54352",
   "metadata": {},
   "outputs": [
    {
     "data": {
      "text/html": [
       "<div>\n",
       "<style scoped>\n",
       "    .dataframe tbody tr th:only-of-type {\n",
       "        vertical-align: middle;\n",
       "    }\n",
       "\n",
       "    .dataframe tbody tr th {\n",
       "        vertical-align: top;\n",
       "    }\n",
       "\n",
       "    .dataframe thead th {\n",
       "        text-align: right;\n",
       "    }\n",
       "</style>\n",
       "<table border=\"1\" class=\"dataframe\">\n",
       "  <thead>\n",
       "    <tr style=\"text-align: right;\">\n",
       "      <th></th>\n",
       "      <th>count</th>\n",
       "      <th>mean</th>\n",
       "      <th>std</th>\n",
       "      <th>min</th>\n",
       "      <th>25%</th>\n",
       "      <th>50%</th>\n",
       "      <th>75%</th>\n",
       "      <th>max</th>\n",
       "    </tr>\n",
       "  </thead>\n",
       "  <tbody>\n",
       "    <tr>\n",
       "      <th>origen_API</th>\n",
       "      <td>4865.0</td>\n",
       "      <td>0.308325</td>\n",
       "      <td>0.461849</td>\n",
       "      <td>0.0</td>\n",
       "      <td>0.000000</td>\n",
       "      <td>0.000000</td>\n",
       "      <td>1.000000</td>\n",
       "      <td>1.0</td>\n",
       "    </tr>\n",
       "    <tr>\n",
       "      <th>origen_Landing Page Submission</th>\n",
       "      <td>4865.0</td>\n",
       "      <td>0.635355</td>\n",
       "      <td>0.481380</td>\n",
       "      <td>0.0</td>\n",
       "      <td>0.000000</td>\n",
       "      <td>1.000000</td>\n",
       "      <td>1.000000</td>\n",
       "      <td>1.0</td>\n",
       "    </tr>\n",
       "    <tr>\n",
       "      <th>origen_Lead Add Form</th>\n",
       "      <td>4865.0</td>\n",
       "      <td>0.049332</td>\n",
       "      <td>0.216582</td>\n",
       "      <td>0.0</td>\n",
       "      <td>0.000000</td>\n",
       "      <td>0.000000</td>\n",
       "      <td>0.000000</td>\n",
       "      <td>1.0</td>\n",
       "    </tr>\n",
       "    <tr>\n",
       "      <th>origen_OTROS</th>\n",
       "      <td>4865.0</td>\n",
       "      <td>0.006989</td>\n",
       "      <td>0.083314</td>\n",
       "      <td>0.0</td>\n",
       "      <td>0.000000</td>\n",
       "      <td>0.000000</td>\n",
       "      <td>0.000000</td>\n",
       "      <td>1.0</td>\n",
       "    </tr>\n",
       "    <tr>\n",
       "      <th>fuente_Chat</th>\n",
       "      <td>4865.0</td>\n",
       "      <td>0.061048</td>\n",
       "      <td>0.239444</td>\n",
       "      <td>0.0</td>\n",
       "      <td>0.000000</td>\n",
       "      <td>0.000000</td>\n",
       "      <td>0.000000</td>\n",
       "      <td>1.0</td>\n",
       "    </tr>\n",
       "    <tr>\n",
       "      <th>fuente_Direct Traffic</th>\n",
       "      <td>4865.0</td>\n",
       "      <td>0.324974</td>\n",
       "      <td>0.468413</td>\n",
       "      <td>0.0</td>\n",
       "      <td>0.000000</td>\n",
       "      <td>0.000000</td>\n",
       "      <td>1.000000</td>\n",
       "      <td>1.0</td>\n",
       "    </tr>\n",
       "    <tr>\n",
       "      <th>fuente_Google</th>\n",
       "      <td>4865.0</td>\n",
       "      <td>0.392395</td>\n",
       "      <td>0.488334</td>\n",
       "      <td>0.0</td>\n",
       "      <td>0.000000</td>\n",
       "      <td>0.000000</td>\n",
       "      <td>1.000000</td>\n",
       "      <td>1.0</td>\n",
       "    </tr>\n",
       "    <tr>\n",
       "      <th>fuente_OTROS</th>\n",
       "      <td>4865.0</td>\n",
       "      <td>0.028777</td>\n",
       "      <td>0.167196</td>\n",
       "      <td>0.0</td>\n",
       "      <td>0.000000</td>\n",
       "      <td>0.000000</td>\n",
       "      <td>0.000000</td>\n",
       "      <td>1.0</td>\n",
       "    </tr>\n",
       "    <tr>\n",
       "      <th>fuente_Organic Search</th>\n",
       "      <td>4865.0</td>\n",
       "      <td>0.147379</td>\n",
       "      <td>0.354520</td>\n",
       "      <td>0.0</td>\n",
       "      <td>0.000000</td>\n",
       "      <td>0.000000</td>\n",
       "      <td>0.000000</td>\n",
       "      <td>1.0</td>\n",
       "    </tr>\n",
       "    <tr>\n",
       "      <th>fuente_Reference</th>\n",
       "      <td>4865.0</td>\n",
       "      <td>0.045427</td>\n",
       "      <td>0.208259</td>\n",
       "      <td>0.0</td>\n",
       "      <td>0.000000</td>\n",
       "      <td>0.000000</td>\n",
       "      <td>0.000000</td>\n",
       "      <td>1.0</td>\n",
       "    </tr>\n",
       "    <tr>\n",
       "      <th>ult_actividad_Chat Conversation</th>\n",
       "      <td>4865.0</td>\n",
       "      <td>0.056526</td>\n",
       "      <td>0.230959</td>\n",
       "      <td>0.0</td>\n",
       "      <td>0.000000</td>\n",
       "      <td>0.000000</td>\n",
       "      <td>0.000000</td>\n",
       "      <td>1.0</td>\n",
       "    </tr>\n",
       "    <tr>\n",
       "      <th>ult_actividad_Converted to Lead</th>\n",
       "      <td>4865.0</td>\n",
       "      <td>0.061254</td>\n",
       "      <td>0.239820</td>\n",
       "      <td>0.0</td>\n",
       "      <td>0.000000</td>\n",
       "      <td>0.000000</td>\n",
       "      <td>0.000000</td>\n",
       "      <td>1.0</td>\n",
       "    </tr>\n",
       "    <tr>\n",
       "      <th>ult_actividad_Email Link Clicked</th>\n",
       "      <td>4865.0</td>\n",
       "      <td>0.030421</td>\n",
       "      <td>0.171761</td>\n",
       "      <td>0.0</td>\n",
       "      <td>0.000000</td>\n",
       "      <td>0.000000</td>\n",
       "      <td>0.000000</td>\n",
       "      <td>1.0</td>\n",
       "    </tr>\n",
       "    <tr>\n",
       "      <th>ult_actividad_Email Opened</th>\n",
       "      <td>4865.0</td>\n",
       "      <td>0.416855</td>\n",
       "      <td>0.493089</td>\n",
       "      <td>0.0</td>\n",
       "      <td>0.000000</td>\n",
       "      <td>0.000000</td>\n",
       "      <td>1.000000</td>\n",
       "      <td>1.0</td>\n",
       "    </tr>\n",
       "    <tr>\n",
       "      <th>ult_actividad_OTROS</th>\n",
       "      <td>4865.0</td>\n",
       "      <td>0.049332</td>\n",
       "      <td>0.216582</td>\n",
       "      <td>0.0</td>\n",
       "      <td>0.000000</td>\n",
       "      <td>0.000000</td>\n",
       "      <td>0.000000</td>\n",
       "      <td>1.0</td>\n",
       "    </tr>\n",
       "    <tr>\n",
       "      <th>ult_actividad_Page Visited on Website</th>\n",
       "      <td>4865.0</td>\n",
       "      <td>0.077287</td>\n",
       "      <td>0.267073</td>\n",
       "      <td>0.0</td>\n",
       "      <td>0.000000</td>\n",
       "      <td>0.000000</td>\n",
       "      <td>0.000000</td>\n",
       "      <td>1.0</td>\n",
       "    </tr>\n",
       "    <tr>\n",
       "      <th>ult_actividad_SMS Sent</th>\n",
       "      <td>4865.0</td>\n",
       "      <td>0.308325</td>\n",
       "      <td>0.461849</td>\n",
       "      <td>0.0</td>\n",
       "      <td>0.000000</td>\n",
       "      <td>0.000000</td>\n",
       "      <td>1.000000</td>\n",
       "      <td>1.0</td>\n",
       "    </tr>\n",
       "    <tr>\n",
       "      <th>ambito_Banking, Investment And Insurance</th>\n",
       "      <td>4865.0</td>\n",
       "      <td>0.045838</td>\n",
       "      <td>0.209154</td>\n",
       "      <td>0.0</td>\n",
       "      <td>0.000000</td>\n",
       "      <td>0.000000</td>\n",
       "      <td>0.000000</td>\n",
       "      <td>1.0</td>\n",
       "    </tr>\n",
       "    <tr>\n",
       "      <th>ambito_Business Administration</th>\n",
       "      <td>4865.0</td>\n",
       "      <td>0.051182</td>\n",
       "      <td>0.220391</td>\n",
       "      <td>0.0</td>\n",
       "      <td>0.000000</td>\n",
       "      <td>0.000000</td>\n",
       "      <td>0.000000</td>\n",
       "      <td>1.0</td>\n",
       "    </tr>\n",
       "    <tr>\n",
       "      <th>ambito_Finance Management</th>\n",
       "      <td>4865.0</td>\n",
       "      <td>0.125180</td>\n",
       "      <td>0.330957</td>\n",
       "      <td>0.0</td>\n",
       "      <td>0.000000</td>\n",
       "      <td>0.000000</td>\n",
       "      <td>0.000000</td>\n",
       "      <td>1.0</td>\n",
       "    </tr>\n",
       "    <tr>\n",
       "      <th>ambito_Healthcare Management</th>\n",
       "      <td>4865.0</td>\n",
       "      <td>0.021994</td>\n",
       "      <td>0.146678</td>\n",
       "      <td>0.0</td>\n",
       "      <td>0.000000</td>\n",
       "      <td>0.000000</td>\n",
       "      <td>0.000000</td>\n",
       "      <td>1.0</td>\n",
       "    </tr>\n",
       "    <tr>\n",
       "      <th>ambito_Human Resource Management</th>\n",
       "      <td>4865.0</td>\n",
       "      <td>0.106269</td>\n",
       "      <td>0.308214</td>\n",
       "      <td>0.0</td>\n",
       "      <td>0.000000</td>\n",
       "      <td>0.000000</td>\n",
       "      <td>0.000000</td>\n",
       "      <td>1.0</td>\n",
       "    </tr>\n",
       "    <tr>\n",
       "      <th>ambito_IT Projects Management</th>\n",
       "      <td>4865.0</td>\n",
       "      <td>0.045015</td>\n",
       "      <td>0.207359</td>\n",
       "      <td>0.0</td>\n",
       "      <td>0.000000</td>\n",
       "      <td>0.000000</td>\n",
       "      <td>0.000000</td>\n",
       "      <td>1.0</td>\n",
       "    </tr>\n",
       "    <tr>\n",
       "      <th>ambito_International Business</th>\n",
       "      <td>4865.0</td>\n",
       "      <td>0.025077</td>\n",
       "      <td>0.156375</td>\n",
       "      <td>0.0</td>\n",
       "      <td>0.000000</td>\n",
       "      <td>0.000000</td>\n",
       "      <td>0.000000</td>\n",
       "      <td>1.0</td>\n",
       "    </tr>\n",
       "    <tr>\n",
       "      <th>ambito_Marketing Management</th>\n",
       "      <td>4865.0</td>\n",
       "      <td>0.107503</td>\n",
       "      <td>0.309783</td>\n",
       "      <td>0.0</td>\n",
       "      <td>0.000000</td>\n",
       "      <td>0.000000</td>\n",
       "      <td>0.000000</td>\n",
       "      <td>1.0</td>\n",
       "    </tr>\n",
       "    <tr>\n",
       "      <th>ambito_Media and Advertising</th>\n",
       "      <td>4865.0</td>\n",
       "      <td>0.027338</td>\n",
       "      <td>0.163083</td>\n",
       "      <td>0.0</td>\n",
       "      <td>0.000000</td>\n",
       "      <td>0.000000</td>\n",
       "      <td>0.000000</td>\n",
       "      <td>1.0</td>\n",
       "    </tr>\n",
       "    <tr>\n",
       "      <th>ambito_OTROS</th>\n",
       "      <td>4865.0</td>\n",
       "      <td>0.062282</td>\n",
       "      <td>0.241691</td>\n",
       "      <td>0.0</td>\n",
       "      <td>0.000000</td>\n",
       "      <td>0.000000</td>\n",
       "      <td>0.000000</td>\n",
       "      <td>1.0</td>\n",
       "    </tr>\n",
       "    <tr>\n",
       "      <th>ambito_Operations Management</th>\n",
       "      <td>4865.0</td>\n",
       "      <td>0.065570</td>\n",
       "      <td>0.247555</td>\n",
       "      <td>0.0</td>\n",
       "      <td>0.000000</td>\n",
       "      <td>0.000000</td>\n",
       "      <td>0.000000</td>\n",
       "      <td>1.0</td>\n",
       "    </tr>\n",
       "    <tr>\n",
       "      <th>ambito_Select</th>\n",
       "      <td>4865.0</td>\n",
       "      <td>0.246249</td>\n",
       "      <td>0.430869</td>\n",
       "      <td>0.0</td>\n",
       "      <td>0.000000</td>\n",
       "      <td>0.000000</td>\n",
       "      <td>0.000000</td>\n",
       "      <td>1.0</td>\n",
       "    </tr>\n",
       "    <tr>\n",
       "      <th>ambito_Supply Chain Management</th>\n",
       "      <td>4865.0</td>\n",
       "      <td>0.046249</td>\n",
       "      <td>0.210045</td>\n",
       "      <td>0.0</td>\n",
       "      <td>0.000000</td>\n",
       "      <td>0.000000</td>\n",
       "      <td>0.000000</td>\n",
       "      <td>1.0</td>\n",
       "    </tr>\n",
       "    <tr>\n",
       "      <th>ambito_Travel and Tourism</th>\n",
       "      <td>4865.0</td>\n",
       "      <td>0.024255</td>\n",
       "      <td>0.153855</td>\n",
       "      <td>0.0</td>\n",
       "      <td>0.000000</td>\n",
       "      <td>0.000000</td>\n",
       "      <td>0.000000</td>\n",
       "      <td>1.0</td>\n",
       "    </tr>\n",
       "    <tr>\n",
       "      <th>ocupacion_OTROS</th>\n",
       "      <td>4865.0</td>\n",
       "      <td>0.004728</td>\n",
       "      <td>0.068602</td>\n",
       "      <td>0.0</td>\n",
       "      <td>0.000000</td>\n",
       "      <td>0.000000</td>\n",
       "      <td>0.000000</td>\n",
       "      <td>1.0</td>\n",
       "    </tr>\n",
       "    <tr>\n",
       "      <th>ocupacion_Student</th>\n",
       "      <td>4865.0</td>\n",
       "      <td>0.024255</td>\n",
       "      <td>0.153855</td>\n",
       "      <td>0.0</td>\n",
       "      <td>0.000000</td>\n",
       "      <td>0.000000</td>\n",
       "      <td>0.000000</td>\n",
       "      <td>1.0</td>\n",
       "    </tr>\n",
       "    <tr>\n",
       "      <th>ocupacion_Unemployed</th>\n",
       "      <td>4865.0</td>\n",
       "      <td>0.877698</td>\n",
       "      <td>0.327668</td>\n",
       "      <td>0.0</td>\n",
       "      <td>1.000000</td>\n",
       "      <td>1.000000</td>\n",
       "      <td>1.000000</td>\n",
       "      <td>1.0</td>\n",
       "    </tr>\n",
       "    <tr>\n",
       "      <th>ocupacion_Working Professional</th>\n",
       "      <td>4865.0</td>\n",
       "      <td>0.093320</td>\n",
       "      <td>0.290910</td>\n",
       "      <td>0.0</td>\n",
       "      <td>0.000000</td>\n",
       "      <td>0.000000</td>\n",
       "      <td>0.000000</td>\n",
       "      <td>1.0</td>\n",
       "    </tr>\n",
       "    <tr>\n",
       "      <th>descarga_lm_No</th>\n",
       "      <td>4865.0</td>\n",
       "      <td>0.628983</td>\n",
       "      <td>0.483127</td>\n",
       "      <td>0.0</td>\n",
       "      <td>0.000000</td>\n",
       "      <td>1.000000</td>\n",
       "      <td>1.000000</td>\n",
       "      <td>1.0</td>\n",
       "    </tr>\n",
       "    <tr>\n",
       "      <th>descarga_lm_Yes</th>\n",
       "      <td>4865.0</td>\n",
       "      <td>0.371017</td>\n",
       "      <td>0.483127</td>\n",
       "      <td>0.0</td>\n",
       "      <td>0.000000</td>\n",
       "      <td>0.000000</td>\n",
       "      <td>1.000000</td>\n",
       "      <td>1.0</td>\n",
       "    </tr>\n",
       "    <tr>\n",
       "      <th>visitas_total_mms</th>\n",
       "      <td>4865.0</td>\n",
       "      <td>0.083507</td>\n",
       "      <td>0.071759</td>\n",
       "      <td>0.0</td>\n",
       "      <td>0.040000</td>\n",
       "      <td>0.060000</td>\n",
       "      <td>0.100000</td>\n",
       "      <td>1.0</td>\n",
       "    </tr>\n",
       "    <tr>\n",
       "      <th>tiempo_en_site_total_mms</th>\n",
       "      <td>4865.0</td>\n",
       "      <td>0.268337</td>\n",
       "      <td>0.245487</td>\n",
       "      <td>0.0</td>\n",
       "      <td>0.059419</td>\n",
       "      <td>0.164173</td>\n",
       "      <td>0.483275</td>\n",
       "      <td>1.0</td>\n",
       "    </tr>\n",
       "    <tr>\n",
       "      <th>paginas_vistas_visita_mms</th>\n",
       "      <td>4865.0</td>\n",
       "      <td>0.180674</td>\n",
       "      <td>0.120165</td>\n",
       "      <td>0.0</td>\n",
       "      <td>0.125000</td>\n",
       "      <td>0.156250</td>\n",
       "      <td>0.250000</td>\n",
       "      <td>1.0</td>\n",
       "    </tr>\n",
       "    <tr>\n",
       "      <th>score_actividad_mms</th>\n",
       "      <td>4865.0</td>\n",
       "      <td>0.641054</td>\n",
       "      <td>0.086189</td>\n",
       "      <td>0.0</td>\n",
       "      <td>0.636364</td>\n",
       "      <td>0.636364</td>\n",
       "      <td>0.636364</td>\n",
       "      <td>1.0</td>\n",
       "    </tr>\n",
       "    <tr>\n",
       "      <th>score_perfil_mms</th>\n",
       "      <td>4865.0</td>\n",
       "      <td>0.588786</td>\n",
       "      <td>0.158228</td>\n",
       "      <td>0.0</td>\n",
       "      <td>0.555556</td>\n",
       "      <td>0.555556</td>\n",
       "      <td>0.666667</td>\n",
       "      <td>1.0</td>\n",
       "    </tr>\n",
       "    <tr>\n",
       "      <th>compra</th>\n",
       "      <td>4865.0</td>\n",
       "      <td>0.419322</td>\n",
       "      <td>0.493499</td>\n",
       "      <td>0.0</td>\n",
       "      <td>0.000000</td>\n",
       "      <td>0.000000</td>\n",
       "      <td>1.000000</td>\n",
       "      <td>1.0</td>\n",
       "    </tr>\n",
       "  </tbody>\n",
       "</table>\n",
       "</div>"
      ],
      "text/plain": [
       "                                           count      mean       std  min  \\\n",
       "origen_API                                4865.0  0.308325  0.461849  0.0   \n",
       "origen_Landing Page Submission            4865.0  0.635355  0.481380  0.0   \n",
       "origen_Lead Add Form                      4865.0  0.049332  0.216582  0.0   \n",
       "origen_OTROS                              4865.0  0.006989  0.083314  0.0   \n",
       "fuente_Chat                               4865.0  0.061048  0.239444  0.0   \n",
       "fuente_Direct Traffic                     4865.0  0.324974  0.468413  0.0   \n",
       "fuente_Google                             4865.0  0.392395  0.488334  0.0   \n",
       "fuente_OTROS                              4865.0  0.028777  0.167196  0.0   \n",
       "fuente_Organic Search                     4865.0  0.147379  0.354520  0.0   \n",
       "fuente_Reference                          4865.0  0.045427  0.208259  0.0   \n",
       "ult_actividad_Chat Conversation           4865.0  0.056526  0.230959  0.0   \n",
       "ult_actividad_Converted to Lead           4865.0  0.061254  0.239820  0.0   \n",
       "ult_actividad_Email Link Clicked          4865.0  0.030421  0.171761  0.0   \n",
       "ult_actividad_Email Opened                4865.0  0.416855  0.493089  0.0   \n",
       "ult_actividad_OTROS                       4865.0  0.049332  0.216582  0.0   \n",
       "ult_actividad_Page Visited on Website     4865.0  0.077287  0.267073  0.0   \n",
       "ult_actividad_SMS Sent                    4865.0  0.308325  0.461849  0.0   \n",
       "ambito_Banking, Investment And Insurance  4865.0  0.045838  0.209154  0.0   \n",
       "ambito_Business Administration            4865.0  0.051182  0.220391  0.0   \n",
       "ambito_Finance Management                 4865.0  0.125180  0.330957  0.0   \n",
       "ambito_Healthcare Management              4865.0  0.021994  0.146678  0.0   \n",
       "ambito_Human Resource Management          4865.0  0.106269  0.308214  0.0   \n",
       "ambito_IT Projects Management             4865.0  0.045015  0.207359  0.0   \n",
       "ambito_International Business             4865.0  0.025077  0.156375  0.0   \n",
       "ambito_Marketing Management               4865.0  0.107503  0.309783  0.0   \n",
       "ambito_Media and Advertising              4865.0  0.027338  0.163083  0.0   \n",
       "ambito_OTROS                              4865.0  0.062282  0.241691  0.0   \n",
       "ambito_Operations Management              4865.0  0.065570  0.247555  0.0   \n",
       "ambito_Select                             4865.0  0.246249  0.430869  0.0   \n",
       "ambito_Supply Chain Management            4865.0  0.046249  0.210045  0.0   \n",
       "ambito_Travel and Tourism                 4865.0  0.024255  0.153855  0.0   \n",
       "ocupacion_OTROS                           4865.0  0.004728  0.068602  0.0   \n",
       "ocupacion_Student                         4865.0  0.024255  0.153855  0.0   \n",
       "ocupacion_Unemployed                      4865.0  0.877698  0.327668  0.0   \n",
       "ocupacion_Working Professional            4865.0  0.093320  0.290910  0.0   \n",
       "descarga_lm_No                            4865.0  0.628983  0.483127  0.0   \n",
       "descarga_lm_Yes                           4865.0  0.371017  0.483127  0.0   \n",
       "visitas_total_mms                         4865.0  0.083507  0.071759  0.0   \n",
       "tiempo_en_site_total_mms                  4865.0  0.268337  0.245487  0.0   \n",
       "paginas_vistas_visita_mms                 4865.0  0.180674  0.120165  0.0   \n",
       "score_actividad_mms                       4865.0  0.641054  0.086189  0.0   \n",
       "score_perfil_mms                          4865.0  0.588786  0.158228  0.0   \n",
       "compra                                    4865.0  0.419322  0.493499  0.0   \n",
       "\n",
       "                                               25%       50%       75%  max  \n",
       "origen_API                                0.000000  0.000000  1.000000  1.0  \n",
       "origen_Landing Page Submission            0.000000  1.000000  1.000000  1.0  \n",
       "origen_Lead Add Form                      0.000000  0.000000  0.000000  1.0  \n",
       "origen_OTROS                              0.000000  0.000000  0.000000  1.0  \n",
       "fuente_Chat                               0.000000  0.000000  0.000000  1.0  \n",
       "fuente_Direct Traffic                     0.000000  0.000000  1.000000  1.0  \n",
       "fuente_Google                             0.000000  0.000000  1.000000  1.0  \n",
       "fuente_OTROS                              0.000000  0.000000  0.000000  1.0  \n",
       "fuente_Organic Search                     0.000000  0.000000  0.000000  1.0  \n",
       "fuente_Reference                          0.000000  0.000000  0.000000  1.0  \n",
       "ult_actividad_Chat Conversation           0.000000  0.000000  0.000000  1.0  \n",
       "ult_actividad_Converted to Lead           0.000000  0.000000  0.000000  1.0  \n",
       "ult_actividad_Email Link Clicked          0.000000  0.000000  0.000000  1.0  \n",
       "ult_actividad_Email Opened                0.000000  0.000000  1.000000  1.0  \n",
       "ult_actividad_OTROS                       0.000000  0.000000  0.000000  1.0  \n",
       "ult_actividad_Page Visited on Website     0.000000  0.000000  0.000000  1.0  \n",
       "ult_actividad_SMS Sent                    0.000000  0.000000  1.000000  1.0  \n",
       "ambito_Banking, Investment And Insurance  0.000000  0.000000  0.000000  1.0  \n",
       "ambito_Business Administration            0.000000  0.000000  0.000000  1.0  \n",
       "ambito_Finance Management                 0.000000  0.000000  0.000000  1.0  \n",
       "ambito_Healthcare Management              0.000000  0.000000  0.000000  1.0  \n",
       "ambito_Human Resource Management          0.000000  0.000000  0.000000  1.0  \n",
       "ambito_IT Projects Management             0.000000  0.000000  0.000000  1.0  \n",
       "ambito_International Business             0.000000  0.000000  0.000000  1.0  \n",
       "ambito_Marketing Management               0.000000  0.000000  0.000000  1.0  \n",
       "ambito_Media and Advertising              0.000000  0.000000  0.000000  1.0  \n",
       "ambito_OTROS                              0.000000  0.000000  0.000000  1.0  \n",
       "ambito_Operations Management              0.000000  0.000000  0.000000  1.0  \n",
       "ambito_Select                             0.000000  0.000000  0.000000  1.0  \n",
       "ambito_Supply Chain Management            0.000000  0.000000  0.000000  1.0  \n",
       "ambito_Travel and Tourism                 0.000000  0.000000  0.000000  1.0  \n",
       "ocupacion_OTROS                           0.000000  0.000000  0.000000  1.0  \n",
       "ocupacion_Student                         0.000000  0.000000  0.000000  1.0  \n",
       "ocupacion_Unemployed                      1.000000  1.000000  1.000000  1.0  \n",
       "ocupacion_Working Professional            0.000000  0.000000  0.000000  1.0  \n",
       "descarga_lm_No                            0.000000  1.000000  1.000000  1.0  \n",
       "descarga_lm_Yes                           0.000000  0.000000  1.000000  1.0  \n",
       "visitas_total_mms                         0.040000  0.060000  0.100000  1.0  \n",
       "tiempo_en_site_total_mms                  0.059419  0.164173  0.483275  1.0  \n",
       "paginas_vistas_visita_mms                 0.125000  0.156250  0.250000  1.0  \n",
       "score_actividad_mms                       0.636364  0.636364  0.636364  1.0  \n",
       "score_perfil_mms                          0.555556  0.555556  0.666667  1.0  \n",
       "compra                                    0.000000  0.000000  1.000000  1.0  "
      ]
     },
     "execution_count": 59,
     "metadata": {},
     "output_type": "execute_result"
    }
   ],
   "source": [
    "#df_tablon.describe().T"
   ]
  },
  {
   "cell_type": "markdown",
   "id": "9f098f8a",
   "metadata": {},
   "source": [
    "## GUARDAR DATASET TRAS TRANSFORMACIÓN DE DATOS"
   ]
  },
  {
   "cell_type": "markdown",
   "id": "7656ba95",
   "metadata": {},
   "source": [
    "En formato pickle para no perder las modificaciones de metadatos."
   ]
  },
  {
   "cell_type": "code",
   "execution_count": 63,
   "id": "782bf43c",
   "metadata": {},
   "outputs": [],
   "source": [
    "#Definir los nombres del archivo\n",
    "ruta_df_tablon = ruta_proyecto + '/02_Datos/03_Trabajo/' + 'df_tablon.pickle'"
   ]
  },
  {
   "cell_type": "code",
   "execution_count": 64,
   "id": "44c7dd60",
   "metadata": {},
   "outputs": [],
   "source": [
    "#Guardar los archivos\n",
    "df_tablon.to_pickle(ruta_df_tablon)"
   ]
  },
  {
   "cell_type": "code",
   "execution_count": null,
   "id": "95b8253e",
   "metadata": {},
   "outputs": [],
   "source": []
  }
 ],
 "metadata": {
  "kernelspec": {
   "display_name": "Python 3 (ipykernel)",
   "language": "python",
   "name": "python3"
  },
  "language_info": {
   "codemirror_mode": {
    "name": "ipython",
    "version": 3
   },
   "file_extension": ".py",
   "mimetype": "text/x-python",
   "name": "python",
   "nbconvert_exporter": "python",
   "pygments_lexer": "ipython3",
   "version": "3.9.7"
  },
  "toc": {
   "base_numbering": 1,
   "nav_menu": {},
   "number_sections": true,
   "sideBar": true,
   "skip_h1_title": false,
   "title_cell": "Table of Contents",
   "title_sidebar": "Contents",
   "toc_cell": false,
   "toc_position": {
    "height": "calc(100% - 180px)",
    "left": "10px",
    "top": "150px",
    "width": "225.949px"
   },
   "toc_section_display": true,
   "toc_window_display": true
  },
  "varInspector": {
   "cols": {
    "lenName": 16,
    "lenType": 16,
    "lenVar": 40
   },
   "kernels_config": {
    "python": {
     "delete_cmd_postfix": "",
     "delete_cmd_prefix": "del ",
     "library": "var_list.py",
     "varRefreshCmd": "print(var_dic_list())"
    },
    "r": {
     "delete_cmd_postfix": ") ",
     "delete_cmd_prefix": "rm(",
     "library": "var_list.r",
     "varRefreshCmd": "cat(var_dic_list()) "
    }
   },
   "position": {
    "height": "546.85px",
    "left": "890.75px",
    "right": "20px",
    "top": "117px",
    "width": "350px"
   },
   "types_to_exclude": [
    "module",
    "function",
    "builtin_function_or_method",
    "instance",
    "_Feature"
   ],
   "window_display": false
  }
 },
 "nbformat": 4,
 "nbformat_minor": 5
}
